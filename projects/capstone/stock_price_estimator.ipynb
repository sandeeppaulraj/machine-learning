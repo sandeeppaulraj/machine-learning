{
 "cells": [
  {
   "cell_type": "markdown",
   "metadata": {},
   "source": [
    "# Machine Learning Nanodegree\n",
    "\n",
    "\n",
    "## Project: **Stock Price Estimator** \n",
    "***\n",
    "In this project proposal I am going to leverage an ipython notebook for my analysis.\n",
    "\n",
    "---\n"
   ]
  },
  {
   "cell_type": "markdown",
   "metadata": {},
   "source": [
    "## Import Packages\n",
    "\n",
    "Import all necessary packages initially."
   ]
  },
  {
   "cell_type": "code",
   "execution_count": 131,
   "metadata": {
    "collapsed": true
   },
   "outputs": [],
   "source": [
    "#importing some useful packages\n",
    "import matplotlib.pyplot as plt\n",
    "import matplotlib.image as mpimg\n",
    "import numpy as np\n",
    "import pandas as pd\n",
    "import cv2\n",
    "from sklearn.preprocessing import StandardScaler,MinMaxScaler\n",
    "from sklearn.model_selection import GridSearchCV\n",
    "from sklearn.tree import DecisionTreeRegressor\n",
    "from sklearn import linear_model\n",
    "from sklearn.ensemble import RandomForestRegressor\n",
    "from sklearn.neighbors import KNeighborsRegressor\n",
    "from sklearn.model_selection import TimeSeriesSplit\n",
    "from sklearn.metrics import mean_squared_error, r2_score\n",
    "from math import sqrt\n",
    "from sklearn.svm import SVR\n",
    "import random\n",
    "\n",
    "%matplotlib inline"
   ]
  },
  {
   "cell_type": "markdown",
   "metadata": {},
   "source": [
    "## Read in the Broadcom(AVGO), Apple(AAPL) and SMH csv files\n",
    "\n",
    "The spreadhseets were downloaded from Yahoo Finance. They are also part of the capstone project repository."
   ]
  },
  {
   "cell_type": "code",
   "execution_count": 132,
   "metadata": {},
   "outputs": [],
   "source": [
    "df = pd.read_csv('./AVGO.csv')\n",
    "df1 = pd.read_csv('./AAPL.csv')\n",
    "df2 = pd.read_csv('./SMH.csv')"
   ]
  },
  {
   "cell_type": "markdown",
   "metadata": {},
   "source": [
    "## Output Some Information from the DataFrame\n",
    "\n",
    "Below some data items pertaining to Broadcom are presented to see what various columns we have available for the project analysis. We can see below that we have the DAte, Open, High, Low, Close, Volume and Adjusted Close avaialble to us."
   ]
  },
  {
   "cell_type": "code",
   "execution_count": 3,
   "metadata": {},
   "outputs": [
    {
     "data": {
      "text/html": [
       "<div>\n",
       "<style>\n",
       "    .dataframe thead tr:only-child th {\n",
       "        text-align: right;\n",
       "    }\n",
       "\n",
       "    .dataframe thead th {\n",
       "        text-align: left;\n",
       "    }\n",
       "\n",
       "    .dataframe tbody tr th {\n",
       "        vertical-align: top;\n",
       "    }\n",
       "</style>\n",
       "<table border=\"1\" class=\"dataframe\">\n",
       "  <thead>\n",
       "    <tr style=\"text-align: right;\">\n",
       "      <th></th>\n",
       "      <th>Date</th>\n",
       "      <th>Open</th>\n",
       "      <th>High</th>\n",
       "      <th>Low</th>\n",
       "      <th>Close</th>\n",
       "      <th>Adj Close</th>\n",
       "      <th>Volume</th>\n",
       "    </tr>\n",
       "  </thead>\n",
       "  <tbody>\n",
       "    <tr>\n",
       "      <th>0</th>\n",
       "      <td>2013-01-07</td>\n",
       "      <td>32.369999</td>\n",
       "      <td>32.490002</td>\n",
       "      <td>32.099998</td>\n",
       "      <td>32.320000</td>\n",
       "      <td>29.718203</td>\n",
       "      <td>1682200</td>\n",
       "    </tr>\n",
       "    <tr>\n",
       "      <th>1</th>\n",
       "      <td>2013-01-08</td>\n",
       "      <td>32.450001</td>\n",
       "      <td>32.700001</td>\n",
       "      <td>32.090000</td>\n",
       "      <td>32.099998</td>\n",
       "      <td>29.515913</td>\n",
       "      <td>2096900</td>\n",
       "    </tr>\n",
       "    <tr>\n",
       "      <th>2</th>\n",
       "      <td>2013-01-09</td>\n",
       "      <td>32.500000</td>\n",
       "      <td>32.959999</td>\n",
       "      <td>32.360001</td>\n",
       "      <td>32.810001</td>\n",
       "      <td>30.168762</td>\n",
       "      <td>2945600</td>\n",
       "    </tr>\n",
       "    <tr>\n",
       "      <th>3</th>\n",
       "      <td>2013-01-10</td>\n",
       "      <td>33.459999</td>\n",
       "      <td>33.590000</td>\n",
       "      <td>33.020000</td>\n",
       "      <td>33.520000</td>\n",
       "      <td>30.821594</td>\n",
       "      <td>4459100</td>\n",
       "    </tr>\n",
       "    <tr>\n",
       "      <th>4</th>\n",
       "      <td>2013-01-11</td>\n",
       "      <td>33.540001</td>\n",
       "      <td>34.369999</td>\n",
       "      <td>33.490002</td>\n",
       "      <td>34.340000</td>\n",
       "      <td>31.575594</td>\n",
       "      <td>4787100</td>\n",
       "    </tr>\n",
       "    <tr>\n",
       "      <th>5</th>\n",
       "      <td>2013-01-14</td>\n",
       "      <td>33.840000</td>\n",
       "      <td>34.619999</td>\n",
       "      <td>33.639999</td>\n",
       "      <td>34.570000</td>\n",
       "      <td>31.787071</td>\n",
       "      <td>4925800</td>\n",
       "    </tr>\n",
       "    <tr>\n",
       "      <th>6</th>\n",
       "      <td>2013-01-15</td>\n",
       "      <td>34.299999</td>\n",
       "      <td>34.439999</td>\n",
       "      <td>33.820000</td>\n",
       "      <td>33.869999</td>\n",
       "      <td>31.143423</td>\n",
       "      <td>3373600</td>\n",
       "    </tr>\n",
       "    <tr>\n",
       "      <th>7</th>\n",
       "      <td>2013-01-16</td>\n",
       "      <td>33.810001</td>\n",
       "      <td>34.610001</td>\n",
       "      <td>33.770000</td>\n",
       "      <td>34.560001</td>\n",
       "      <td>31.777880</td>\n",
       "      <td>2766900</td>\n",
       "    </tr>\n",
       "  </tbody>\n",
       "</table>\n",
       "</div>"
      ],
      "text/plain": [
       "         Date       Open       High        Low      Close  Adj Close   Volume\n",
       "0  2013-01-07  32.369999  32.490002  32.099998  32.320000  29.718203  1682200\n",
       "1  2013-01-08  32.450001  32.700001  32.090000  32.099998  29.515913  2096900\n",
       "2  2013-01-09  32.500000  32.959999  32.360001  32.810001  30.168762  2945600\n",
       "3  2013-01-10  33.459999  33.590000  33.020000  33.520000  30.821594  4459100\n",
       "4  2013-01-11  33.540001  34.369999  33.490002  34.340000  31.575594  4787100\n",
       "5  2013-01-14  33.840000  34.619999  33.639999  34.570000  31.787071  4925800\n",
       "6  2013-01-15  34.299999  34.439999  33.820000  33.869999  31.143423  3373600\n",
       "7  2013-01-16  33.810001  34.610001  33.770000  34.560001  31.777880  2766900"
      ]
     },
     "execution_count": 3,
     "metadata": {},
     "output_type": "execute_result"
    }
   ],
   "source": [
    "df.head(8)"
   ]
  },
  {
   "cell_type": "code",
   "execution_count": 4,
   "metadata": {},
   "outputs": [
    {
     "data": {
      "text/html": [
       "<div>\n",
       "<style>\n",
       "    .dataframe thead tr:only-child th {\n",
       "        text-align: right;\n",
       "    }\n",
       "\n",
       "    .dataframe thead th {\n",
       "        text-align: left;\n",
       "    }\n",
       "\n",
       "    .dataframe tbody tr th {\n",
       "        vertical-align: top;\n",
       "    }\n",
       "</style>\n",
       "<table border=\"1\" class=\"dataframe\">\n",
       "  <thead>\n",
       "    <tr style=\"text-align: right;\">\n",
       "      <th></th>\n",
       "      <th>Date</th>\n",
       "      <th>Open</th>\n",
       "      <th>High</th>\n",
       "      <th>Low</th>\n",
       "      <th>Close</th>\n",
       "      <th>Adj Close</th>\n",
       "      <th>Volume</th>\n",
       "    </tr>\n",
       "  </thead>\n",
       "  <tbody>\n",
       "    <tr>\n",
       "      <th>1255</th>\n",
       "      <td>2017-12-29</td>\n",
       "      <td>259.769989</td>\n",
       "      <td>261.950012</td>\n",
       "      <td>256.640015</td>\n",
       "      <td>256.899994</td>\n",
       "      <td>256.899994</td>\n",
       "      <td>1798000</td>\n",
       "    </tr>\n",
       "    <tr>\n",
       "      <th>1256</th>\n",
       "      <td>2018-01-02</td>\n",
       "      <td>259.769989</td>\n",
       "      <td>267.500000</td>\n",
       "      <td>257.570007</td>\n",
       "      <td>267.010010</td>\n",
       "      <td>267.010010</td>\n",
       "      <td>3313500</td>\n",
       "    </tr>\n",
       "    <tr>\n",
       "      <th>1257</th>\n",
       "      <td>2018-01-03</td>\n",
       "      <td>267.290009</td>\n",
       "      <td>270.730011</td>\n",
       "      <td>266.029999</td>\n",
       "      <td>269.929993</td>\n",
       "      <td>269.929993</td>\n",
       "      <td>3116100</td>\n",
       "    </tr>\n",
       "    <tr>\n",
       "      <th>1258</th>\n",
       "      <td>2018-01-04</td>\n",
       "      <td>271.589996</td>\n",
       "      <td>271.760010</td>\n",
       "      <td>268.429993</td>\n",
       "      <td>270.019989</td>\n",
       "      <td>270.019989</td>\n",
       "      <td>1906700</td>\n",
       "    </tr>\n",
       "    <tr>\n",
       "      <th>1259</th>\n",
       "      <td>2018-01-05</td>\n",
       "      <td>271.970001</td>\n",
       "      <td>274.260010</td>\n",
       "      <td>269.450012</td>\n",
       "      <td>271.619995</td>\n",
       "      <td>271.619995</td>\n",
       "      <td>2860800</td>\n",
       "    </tr>\n",
       "  </tbody>\n",
       "</table>\n",
       "</div>"
      ],
      "text/plain": [
       "            Date        Open        High         Low       Close   Adj Close  \\\n",
       "1255  2017-12-29  259.769989  261.950012  256.640015  256.899994  256.899994   \n",
       "1256  2018-01-02  259.769989  267.500000  257.570007  267.010010  267.010010   \n",
       "1257  2018-01-03  267.290009  270.730011  266.029999  269.929993  269.929993   \n",
       "1258  2018-01-04  271.589996  271.760010  268.429993  270.019989  270.019989   \n",
       "1259  2018-01-05  271.970001  274.260010  269.450012  271.619995  271.619995   \n",
       "\n",
       "       Volume  \n",
       "1255  1798000  \n",
       "1256  3313500  \n",
       "1257  3116100  \n",
       "1258  1906700  \n",
       "1259  2860800  "
      ]
     },
     "execution_count": 4,
     "metadata": {},
     "output_type": "execute_result"
    }
   ],
   "source": [
    "df.tail()"
   ]
  },
  {
   "cell_type": "markdown",
   "metadata": {},
   "source": [
    "## Reverse all Rows\n",
    "\n",
    "There is a need to reverse all the rows since the date increases and does not decrease.\n",
    "The main reason for doing this it aid in seeing the most recent values at the head of the list. In any case, this can easily be reversed again."
   ]
  },
  {
   "cell_type": "code",
   "execution_count": 5,
   "metadata": {
    "collapsed": true
   },
   "outputs": [],
   "source": [
    "df = df.iloc[::-1]"
   ]
  },
  {
   "cell_type": "markdown",
   "metadata": {},
   "source": [
    "We can now see the most recent values at the top of the data frame"
   ]
  },
  {
   "cell_type": "code",
   "execution_count": 133,
   "metadata": {},
   "outputs": [
    {
     "data": {
      "text/html": [
       "<div>\n",
       "<style>\n",
       "    .dataframe thead tr:only-child th {\n",
       "        text-align: right;\n",
       "    }\n",
       "\n",
       "    .dataframe thead th {\n",
       "        text-align: left;\n",
       "    }\n",
       "\n",
       "    .dataframe tbody tr th {\n",
       "        vertical-align: top;\n",
       "    }\n",
       "</style>\n",
       "<table border=\"1\" class=\"dataframe\">\n",
       "  <thead>\n",
       "    <tr style=\"text-align: right;\">\n",
       "      <th></th>\n",
       "      <th>Date</th>\n",
       "      <th>Open</th>\n",
       "      <th>High</th>\n",
       "      <th>Low</th>\n",
       "      <th>Close</th>\n",
       "      <th>Adj Close</th>\n",
       "      <th>Volume</th>\n",
       "    </tr>\n",
       "  </thead>\n",
       "  <tbody>\n",
       "    <tr>\n",
       "      <th>0</th>\n",
       "      <td>2013-01-07</td>\n",
       "      <td>32.369999</td>\n",
       "      <td>32.490002</td>\n",
       "      <td>32.099998</td>\n",
       "      <td>32.320000</td>\n",
       "      <td>29.718203</td>\n",
       "      <td>1682200</td>\n",
       "    </tr>\n",
       "    <tr>\n",
       "      <th>1</th>\n",
       "      <td>2013-01-08</td>\n",
       "      <td>32.450001</td>\n",
       "      <td>32.700001</td>\n",
       "      <td>32.090000</td>\n",
       "      <td>32.099998</td>\n",
       "      <td>29.515913</td>\n",
       "      <td>2096900</td>\n",
       "    </tr>\n",
       "    <tr>\n",
       "      <th>2</th>\n",
       "      <td>2013-01-09</td>\n",
       "      <td>32.500000</td>\n",
       "      <td>32.959999</td>\n",
       "      <td>32.360001</td>\n",
       "      <td>32.810001</td>\n",
       "      <td>30.168762</td>\n",
       "      <td>2945600</td>\n",
       "    </tr>\n",
       "    <tr>\n",
       "      <th>3</th>\n",
       "      <td>2013-01-10</td>\n",
       "      <td>33.459999</td>\n",
       "      <td>33.590000</td>\n",
       "      <td>33.020000</td>\n",
       "      <td>33.520000</td>\n",
       "      <td>30.821594</td>\n",
       "      <td>4459100</td>\n",
       "    </tr>\n",
       "    <tr>\n",
       "      <th>4</th>\n",
       "      <td>2013-01-11</td>\n",
       "      <td>33.540001</td>\n",
       "      <td>34.369999</td>\n",
       "      <td>33.490002</td>\n",
       "      <td>34.340000</td>\n",
       "      <td>31.575594</td>\n",
       "      <td>4787100</td>\n",
       "    </tr>\n",
       "  </tbody>\n",
       "</table>\n",
       "</div>"
      ],
      "text/plain": [
       "         Date       Open       High        Low      Close  Adj Close   Volume\n",
       "0  2013-01-07  32.369999  32.490002  32.099998  32.320000  29.718203  1682200\n",
       "1  2013-01-08  32.450001  32.700001  32.090000  32.099998  29.515913  2096900\n",
       "2  2013-01-09  32.500000  32.959999  32.360001  32.810001  30.168762  2945600\n",
       "3  2013-01-10  33.459999  33.590000  33.020000  33.520000  30.821594  4459100\n",
       "4  2013-01-11  33.540001  34.369999  33.490002  34.340000  31.575594  4787100"
      ]
     },
     "execution_count": 133,
     "metadata": {},
     "output_type": "execute_result"
    }
   ],
   "source": [
    "df.head()"
   ]
  },
  {
   "cell_type": "code",
   "execution_count": 7,
   "metadata": {
    "collapsed": true
   },
   "outputs": [],
   "source": [
    "df = pd.DataFrame(data = df)\n",
    "df = df.reset_index()"
   ]
  },
  {
   "cell_type": "code",
   "execution_count": 8,
   "metadata": {
    "collapsed": true
   },
   "outputs": [],
   "source": [
    "del df['index']"
   ]
  },
  {
   "cell_type": "markdown",
   "metadata": {},
   "source": [
    "Observe the latest 7 Opening Stock Prices for Broadcom."
   ]
  },
  {
   "cell_type": "code",
   "execution_count": 134,
   "metadata": {},
   "outputs": [
    {
     "data": {
      "text/plain": [
       "0    32.369999\n",
       "1    32.450001\n",
       "2    32.500000\n",
       "3    33.459999\n",
       "4    33.540001\n",
       "5    33.840000\n",
       "6    34.299999\n",
       "Name: Open, dtype: float64"
      ]
     },
     "execution_count": 134,
     "metadata": {},
     "output_type": "execute_result"
    }
   ],
   "source": [
    "df['Open'][0:7]"
   ]
  },
  {
   "cell_type": "code",
   "execution_count": 10,
   "metadata": {},
   "outputs": [
    {
     "data": {
      "text/html": [
       "<div>\n",
       "<style>\n",
       "    .dataframe thead tr:only-child th {\n",
       "        text-align: right;\n",
       "    }\n",
       "\n",
       "    .dataframe thead th {\n",
       "        text-align: left;\n",
       "    }\n",
       "\n",
       "    .dataframe tbody tr th {\n",
       "        vertical-align: top;\n",
       "    }\n",
       "</style>\n",
       "<table border=\"1\" class=\"dataframe\">\n",
       "  <thead>\n",
       "    <tr style=\"text-align: right;\">\n",
       "      <th></th>\n",
       "      <th>Open</th>\n",
       "      <th>High</th>\n",
       "      <th>Low</th>\n",
       "      <th>Close</th>\n",
       "      <th>Adj Close</th>\n",
       "      <th>Volume</th>\n",
       "    </tr>\n",
       "  </thead>\n",
       "  <tbody>\n",
       "    <tr>\n",
       "      <th>count</th>\n",
       "      <td>1260.000000</td>\n",
       "      <td>1260.000000</td>\n",
       "      <td>1260.000000</td>\n",
       "      <td>1260.000000</td>\n",
       "      <td>1260.000000</td>\n",
       "      <td>1.260000e+03</td>\n",
       "    </tr>\n",
       "    <tr>\n",
       "      <th>mean</th>\n",
       "      <td>126.814968</td>\n",
       "      <td>128.224579</td>\n",
       "      <td>125.219714</td>\n",
       "      <td>126.832778</td>\n",
       "      <td>123.054116</td>\n",
       "      <td>2.826507e+06</td>\n",
       "    </tr>\n",
       "    <tr>\n",
       "      <th>std</th>\n",
       "      <td>70.608922</td>\n",
       "      <td>71.211349</td>\n",
       "      <td>69.814413</td>\n",
       "      <td>70.579409</td>\n",
       "      <td>70.663921</td>\n",
       "      <td>2.366647e+06</td>\n",
       "    </tr>\n",
       "    <tr>\n",
       "      <th>min</th>\n",
       "      <td>31.250000</td>\n",
       "      <td>31.840000</td>\n",
       "      <td>30.570000</td>\n",
       "      <td>31.260000</td>\n",
       "      <td>28.896338</td>\n",
       "      <td>5.761000e+05</td>\n",
       "    </tr>\n",
       "    <tr>\n",
       "      <th>25%</th>\n",
       "      <td>63.280001</td>\n",
       "      <td>64.327501</td>\n",
       "      <td>62.465001</td>\n",
       "      <td>63.394999</td>\n",
       "      <td>59.599038</td>\n",
       "      <td>1.741925e+06</td>\n",
       "    </tr>\n",
       "    <tr>\n",
       "      <th>50%</th>\n",
       "      <td>124.994999</td>\n",
       "      <td>126.705002</td>\n",
       "      <td>123.065003</td>\n",
       "      <td>125.015000</td>\n",
       "      <td>120.144547</td>\n",
       "      <td>2.329400e+06</td>\n",
       "    </tr>\n",
       "    <tr>\n",
       "      <th>75%</th>\n",
       "      <td>171.577503</td>\n",
       "      <td>173.040001</td>\n",
       "      <td>169.659999</td>\n",
       "      <td>171.392505</td>\n",
       "      <td>167.007794</td>\n",
       "      <td>3.203925e+06</td>\n",
       "    </tr>\n",
       "    <tr>\n",
       "      <th>max</th>\n",
       "      <td>284.859985</td>\n",
       "      <td>285.679993</td>\n",
       "      <td>279.769989</td>\n",
       "      <td>284.619995</td>\n",
       "      <td>282.745575</td>\n",
       "      <td>5.602800e+07</td>\n",
       "    </tr>\n",
       "  </tbody>\n",
       "</table>\n",
       "</div>"
      ],
      "text/plain": [
       "              Open         High          Low        Close    Adj Close  \\\n",
       "count  1260.000000  1260.000000  1260.000000  1260.000000  1260.000000   \n",
       "mean    126.814968   128.224579   125.219714   126.832778   123.054116   \n",
       "std      70.608922    71.211349    69.814413    70.579409    70.663921   \n",
       "min      31.250000    31.840000    30.570000    31.260000    28.896338   \n",
       "25%      63.280001    64.327501    62.465001    63.394999    59.599038   \n",
       "50%     124.994999   126.705002   123.065003   125.015000   120.144547   \n",
       "75%     171.577503   173.040001   169.659999   171.392505   167.007794   \n",
       "max     284.859985   285.679993   279.769989   284.619995   282.745575   \n",
       "\n",
       "             Volume  \n",
       "count  1.260000e+03  \n",
       "mean   2.826507e+06  \n",
       "std    2.366647e+06  \n",
       "min    5.761000e+05  \n",
       "25%    1.741925e+06  \n",
       "50%    2.329400e+06  \n",
       "75%    3.203925e+06  \n",
       "max    5.602800e+07  "
      ]
     },
     "execution_count": 10,
     "metadata": {},
     "output_type": "execute_result"
    }
   ],
   "source": [
    "#Have a look at some summary stats\n",
    "df.describe()"
   ]
  },
  {
   "cell_type": "code",
   "execution_count": 11,
   "metadata": {},
   "outputs": [
    {
     "data": {
      "text/html": [
       "<div>\n",
       "<style>\n",
       "    .dataframe thead tr:only-child th {\n",
       "        text-align: right;\n",
       "    }\n",
       "\n",
       "    .dataframe thead th {\n",
       "        text-align: left;\n",
       "    }\n",
       "\n",
       "    .dataframe tbody tr th {\n",
       "        vertical-align: top;\n",
       "    }\n",
       "</style>\n",
       "<table border=\"1\" class=\"dataframe\">\n",
       "  <thead>\n",
       "    <tr style=\"text-align: right;\">\n",
       "      <th></th>\n",
       "      <th>Date</th>\n",
       "      <th>Open</th>\n",
       "      <th>High</th>\n",
       "      <th>Low</th>\n",
       "      <th>Close</th>\n",
       "      <th>Adj Close</th>\n",
       "      <th>Volume</th>\n",
       "    </tr>\n",
       "  </thead>\n",
       "  <tbody>\n",
       "    <tr>\n",
       "      <th>0</th>\n",
       "      <td>2018-01-05</td>\n",
       "      <td>271.970001</td>\n",
       "      <td>274.260010</td>\n",
       "      <td>269.450012</td>\n",
       "      <td>271.619995</td>\n",
       "      <td>271.619995</td>\n",
       "      <td>2860800</td>\n",
       "    </tr>\n",
       "    <tr>\n",
       "      <th>1</th>\n",
       "      <td>2018-01-04</td>\n",
       "      <td>271.589996</td>\n",
       "      <td>271.760010</td>\n",
       "      <td>268.429993</td>\n",
       "      <td>270.019989</td>\n",
       "      <td>270.019989</td>\n",
       "      <td>1906700</td>\n",
       "    </tr>\n",
       "    <tr>\n",
       "      <th>2</th>\n",
       "      <td>2018-01-03</td>\n",
       "      <td>267.290009</td>\n",
       "      <td>270.730011</td>\n",
       "      <td>266.029999</td>\n",
       "      <td>269.929993</td>\n",
       "      <td>269.929993</td>\n",
       "      <td>3116100</td>\n",
       "    </tr>\n",
       "    <tr>\n",
       "      <th>3</th>\n",
       "      <td>2018-01-02</td>\n",
       "      <td>259.769989</td>\n",
       "      <td>267.500000</td>\n",
       "      <td>257.570007</td>\n",
       "      <td>267.010010</td>\n",
       "      <td>267.010010</td>\n",
       "      <td>3313500</td>\n",
       "    </tr>\n",
       "    <tr>\n",
       "      <th>4</th>\n",
       "      <td>2017-12-29</td>\n",
       "      <td>259.769989</td>\n",
       "      <td>261.950012</td>\n",
       "      <td>256.640015</td>\n",
       "      <td>256.899994</td>\n",
       "      <td>256.899994</td>\n",
       "      <td>1798000</td>\n",
       "    </tr>\n",
       "    <tr>\n",
       "      <th>5</th>\n",
       "      <td>2017-12-28</td>\n",
       "      <td>260.160004</td>\n",
       "      <td>260.799988</td>\n",
       "      <td>258.549988</td>\n",
       "      <td>260.420013</td>\n",
       "      <td>260.420013</td>\n",
       "      <td>1364100</td>\n",
       "    </tr>\n",
       "    <tr>\n",
       "      <th>6</th>\n",
       "      <td>2017-12-27</td>\n",
       "      <td>258.839996</td>\n",
       "      <td>261.609985</td>\n",
       "      <td>258.500000</td>\n",
       "      <td>259.119995</td>\n",
       "      <td>259.119995</td>\n",
       "      <td>3561500</td>\n",
       "    </tr>\n",
       "    <tr>\n",
       "      <th>7</th>\n",
       "      <td>2017-12-26</td>\n",
       "      <td>257.230011</td>\n",
       "      <td>262.350006</td>\n",
       "      <td>253.389999</td>\n",
       "      <td>258.100006</td>\n",
       "      <td>258.100006</td>\n",
       "      <td>2225600</td>\n",
       "    </tr>\n",
       "    <tr>\n",
       "      <th>8</th>\n",
       "      <td>2017-12-22</td>\n",
       "      <td>261.820007</td>\n",
       "      <td>263.369995</td>\n",
       "      <td>258.700012</td>\n",
       "      <td>262.350006</td>\n",
       "      <td>262.350006</td>\n",
       "      <td>1461700</td>\n",
       "    </tr>\n",
       "    <tr>\n",
       "      <th>9</th>\n",
       "      <td>2017-12-21</td>\n",
       "      <td>265.950012</td>\n",
       "      <td>266.250000</td>\n",
       "      <td>261.070007</td>\n",
       "      <td>261.529999</td>\n",
       "      <td>261.529999</td>\n",
       "      <td>1775800</td>\n",
       "    </tr>\n",
       "  </tbody>\n",
       "</table>\n",
       "</div>"
      ],
      "text/plain": [
       "         Date        Open        High         Low       Close   Adj Close  \\\n",
       "0  2018-01-05  271.970001  274.260010  269.450012  271.619995  271.619995   \n",
       "1  2018-01-04  271.589996  271.760010  268.429993  270.019989  270.019989   \n",
       "2  2018-01-03  267.290009  270.730011  266.029999  269.929993  269.929993   \n",
       "3  2018-01-02  259.769989  267.500000  257.570007  267.010010  267.010010   \n",
       "4  2017-12-29  259.769989  261.950012  256.640015  256.899994  256.899994   \n",
       "5  2017-12-28  260.160004  260.799988  258.549988  260.420013  260.420013   \n",
       "6  2017-12-27  258.839996  261.609985  258.500000  259.119995  259.119995   \n",
       "7  2017-12-26  257.230011  262.350006  253.389999  258.100006  258.100006   \n",
       "8  2017-12-22  261.820007  263.369995  258.700012  262.350006  262.350006   \n",
       "9  2017-12-21  265.950012  266.250000  261.070007  261.529999  261.529999   \n",
       "\n",
       "    Volume  \n",
       "0  2860800  \n",
       "1  1906700  \n",
       "2  3116100  \n",
       "3  3313500  \n",
       "4  1798000  \n",
       "5  1364100  \n",
       "6  3561500  \n",
       "7  2225600  \n",
       "8  1461700  \n",
       "9  1775800  "
      ]
     },
     "execution_count": 11,
     "metadata": {},
     "output_type": "execute_result"
    }
   ],
   "source": [
    "# This output should have the most recent dates on top\n",
    "df.head(10)"
   ]
  },
  {
   "cell_type": "code",
   "execution_count": 12,
   "metadata": {},
   "outputs": [
    {
     "data": {
      "text/plain": [
       "1260"
      ]
     },
     "execution_count": 12,
     "metadata": {},
     "output_type": "execute_result"
    }
   ],
   "source": [
    "len(df['Open'])"
   ]
  },
  {
   "cell_type": "markdown",
   "metadata": {},
   "source": [
    "## Save first 1 day worth of data\n",
    "\n",
    "The First day's worth of data need to be saved. The current day will not be aware of the next day's Adjusted Closing Price. Infact this is something that we will need to predict. "
   ]
  },
  {
   "cell_type": "code",
   "execution_count": 13,
   "metadata": {
    "collapsed": true
   },
   "outputs": [],
   "source": [
    "avgo_first_day= df[0:1].copy(deep = True)"
   ]
  },
  {
   "cell_type": "code",
   "execution_count": 14,
   "metadata": {},
   "outputs": [
    {
     "data": {
      "text/html": [
       "<div>\n",
       "<style>\n",
       "    .dataframe thead tr:only-child th {\n",
       "        text-align: right;\n",
       "    }\n",
       "\n",
       "    .dataframe thead th {\n",
       "        text-align: left;\n",
       "    }\n",
       "\n",
       "    .dataframe tbody tr th {\n",
       "        vertical-align: top;\n",
       "    }\n",
       "</style>\n",
       "<table border=\"1\" class=\"dataframe\">\n",
       "  <thead>\n",
       "    <tr style=\"text-align: right;\">\n",
       "      <th></th>\n",
       "      <th>Date</th>\n",
       "      <th>Open</th>\n",
       "      <th>High</th>\n",
       "      <th>Low</th>\n",
       "      <th>Close</th>\n",
       "      <th>Adj Close</th>\n",
       "      <th>Volume</th>\n",
       "    </tr>\n",
       "  </thead>\n",
       "  <tbody>\n",
       "    <tr>\n",
       "      <th>0</th>\n",
       "      <td>2018-01-05</td>\n",
       "      <td>271.970001</td>\n",
       "      <td>274.26001</td>\n",
       "      <td>269.450012</td>\n",
       "      <td>271.619995</td>\n",
       "      <td>271.619995</td>\n",
       "      <td>2860800</td>\n",
       "    </tr>\n",
       "  </tbody>\n",
       "</table>\n",
       "</div>"
      ],
      "text/plain": [
       "         Date        Open       High         Low       Close   Adj Close  \\\n",
       "0  2018-01-05  271.970001  274.26001  269.450012  271.619995  271.619995   \n",
       "\n",
       "    Volume  \n",
       "0  2860800  "
      ]
     },
     "execution_count": 14,
     "metadata": {},
     "output_type": "execute_result"
    }
   ],
   "source": [
    "avgo_first_day"
   ]
  },
  {
   "cell_type": "markdown",
   "metadata": {},
   "source": [
    "## DataFrame with Remaining Data\n",
    "\n",
    "I have a new data frame with data from entry index 7 onwards."
   ]
  },
  {
   "cell_type": "code",
   "execution_count": 15,
   "metadata": {
    "collapsed": true
   },
   "outputs": [],
   "source": [
    "rem_data = df[1:].copy(deep=True)"
   ]
  },
  {
   "cell_type": "markdown",
   "metadata": {},
   "source": [
    "## Difference between High and Low Stock Price\n",
    "\n",
    "This may prove to be a useful metric in the project so have a new column"
   ]
  },
  {
   "cell_type": "code",
   "execution_count": 16,
   "metadata": {
    "collapsed": true
   },
   "outputs": [],
   "source": [
    "rem_data['High - Low'] = rem_data['High'] - rem_data['Low']"
   ]
  },
  {
   "cell_type": "code",
   "execution_count": 17,
   "metadata": {},
   "outputs": [
    {
     "data": {
      "text/html": [
       "<div>\n",
       "<style>\n",
       "    .dataframe thead tr:only-child th {\n",
       "        text-align: right;\n",
       "    }\n",
       "\n",
       "    .dataframe thead th {\n",
       "        text-align: left;\n",
       "    }\n",
       "\n",
       "    .dataframe tbody tr th {\n",
       "        vertical-align: top;\n",
       "    }\n",
       "</style>\n",
       "<table border=\"1\" class=\"dataframe\">\n",
       "  <thead>\n",
       "    <tr style=\"text-align: right;\">\n",
       "      <th></th>\n",
       "      <th>Date</th>\n",
       "      <th>Open</th>\n",
       "      <th>High</th>\n",
       "      <th>Low</th>\n",
       "      <th>Close</th>\n",
       "      <th>Adj Close</th>\n",
       "      <th>Volume</th>\n",
       "      <th>High - Low</th>\n",
       "    </tr>\n",
       "  </thead>\n",
       "  <tbody>\n",
       "    <tr>\n",
       "      <th>1</th>\n",
       "      <td>2018-01-04</td>\n",
       "      <td>271.589996</td>\n",
       "      <td>271.760010</td>\n",
       "      <td>268.429993</td>\n",
       "      <td>270.019989</td>\n",
       "      <td>270.019989</td>\n",
       "      <td>1906700</td>\n",
       "      <td>3.330017</td>\n",
       "    </tr>\n",
       "    <tr>\n",
       "      <th>2</th>\n",
       "      <td>2018-01-03</td>\n",
       "      <td>267.290009</td>\n",
       "      <td>270.730011</td>\n",
       "      <td>266.029999</td>\n",
       "      <td>269.929993</td>\n",
       "      <td>269.929993</td>\n",
       "      <td>3116100</td>\n",
       "      <td>4.700012</td>\n",
       "    </tr>\n",
       "    <tr>\n",
       "      <th>3</th>\n",
       "      <td>2018-01-02</td>\n",
       "      <td>259.769989</td>\n",
       "      <td>267.500000</td>\n",
       "      <td>257.570007</td>\n",
       "      <td>267.010010</td>\n",
       "      <td>267.010010</td>\n",
       "      <td>3313500</td>\n",
       "      <td>9.929993</td>\n",
       "    </tr>\n",
       "    <tr>\n",
       "      <th>4</th>\n",
       "      <td>2017-12-29</td>\n",
       "      <td>259.769989</td>\n",
       "      <td>261.950012</td>\n",
       "      <td>256.640015</td>\n",
       "      <td>256.899994</td>\n",
       "      <td>256.899994</td>\n",
       "      <td>1798000</td>\n",
       "      <td>5.309997</td>\n",
       "    </tr>\n",
       "    <tr>\n",
       "      <th>5</th>\n",
       "      <td>2017-12-28</td>\n",
       "      <td>260.160004</td>\n",
       "      <td>260.799988</td>\n",
       "      <td>258.549988</td>\n",
       "      <td>260.420013</td>\n",
       "      <td>260.420013</td>\n",
       "      <td>1364100</td>\n",
       "      <td>2.250000</td>\n",
       "    </tr>\n",
       "    <tr>\n",
       "      <th>6</th>\n",
       "      <td>2017-12-27</td>\n",
       "      <td>258.839996</td>\n",
       "      <td>261.609985</td>\n",
       "      <td>258.500000</td>\n",
       "      <td>259.119995</td>\n",
       "      <td>259.119995</td>\n",
       "      <td>3561500</td>\n",
       "      <td>3.109985</td>\n",
       "    </tr>\n",
       "    <tr>\n",
       "      <th>7</th>\n",
       "      <td>2017-12-26</td>\n",
       "      <td>257.230011</td>\n",
       "      <td>262.350006</td>\n",
       "      <td>253.389999</td>\n",
       "      <td>258.100006</td>\n",
       "      <td>258.100006</td>\n",
       "      <td>2225600</td>\n",
       "      <td>8.960007</td>\n",
       "    </tr>\n",
       "    <tr>\n",
       "      <th>8</th>\n",
       "      <td>2017-12-22</td>\n",
       "      <td>261.820007</td>\n",
       "      <td>263.369995</td>\n",
       "      <td>258.700012</td>\n",
       "      <td>262.350006</td>\n",
       "      <td>262.350006</td>\n",
       "      <td>1461700</td>\n",
       "      <td>4.669983</td>\n",
       "    </tr>\n",
       "  </tbody>\n",
       "</table>\n",
       "</div>"
      ],
      "text/plain": [
       "         Date        Open        High         Low       Close   Adj Close  \\\n",
       "1  2018-01-04  271.589996  271.760010  268.429993  270.019989  270.019989   \n",
       "2  2018-01-03  267.290009  270.730011  266.029999  269.929993  269.929993   \n",
       "3  2018-01-02  259.769989  267.500000  257.570007  267.010010  267.010010   \n",
       "4  2017-12-29  259.769989  261.950012  256.640015  256.899994  256.899994   \n",
       "5  2017-12-28  260.160004  260.799988  258.549988  260.420013  260.420013   \n",
       "6  2017-12-27  258.839996  261.609985  258.500000  259.119995  259.119995   \n",
       "7  2017-12-26  257.230011  262.350006  253.389999  258.100006  258.100006   \n",
       "8  2017-12-22  261.820007  263.369995  258.700012  262.350006  262.350006   \n",
       "\n",
       "    Volume  High - Low  \n",
       "1  1906700    3.330017  \n",
       "2  3116100    4.700012  \n",
       "3  3313500    9.929993  \n",
       "4  1798000    5.309997  \n",
       "5  1364100    2.250000  \n",
       "6  3561500    3.109985  \n",
       "7  2225600    8.960007  \n",
       "8  1461700    4.669983  "
      ]
     },
     "execution_count": 17,
     "metadata": {},
     "output_type": "execute_result"
    }
   ],
   "source": [
    "rem_data.head(8)\n"
   ]
  },
  {
   "cell_type": "code",
   "execution_count": 18,
   "metadata": {},
   "outputs": [
    {
     "data": {
      "text/html": [
       "<div>\n",
       "<style>\n",
       "    .dataframe thead tr:only-child th {\n",
       "        text-align: right;\n",
       "    }\n",
       "\n",
       "    .dataframe thead th {\n",
       "        text-align: left;\n",
       "    }\n",
       "\n",
       "    .dataframe tbody tr th {\n",
       "        vertical-align: top;\n",
       "    }\n",
       "</style>\n",
       "<table border=\"1\" class=\"dataframe\">\n",
       "  <thead>\n",
       "    <tr style=\"text-align: right;\">\n",
       "      <th></th>\n",
       "      <th>Date</th>\n",
       "      <th>Open</th>\n",
       "      <th>High</th>\n",
       "      <th>Low</th>\n",
       "      <th>Close</th>\n",
       "      <th>Adj Close</th>\n",
       "      <th>Volume</th>\n",
       "      <th>High - Low</th>\n",
       "    </tr>\n",
       "  </thead>\n",
       "  <tbody>\n",
       "    <tr>\n",
       "      <th>1255</th>\n",
       "      <td>2013-01-11</td>\n",
       "      <td>33.540001</td>\n",
       "      <td>34.369999</td>\n",
       "      <td>33.490002</td>\n",
       "      <td>34.340000</td>\n",
       "      <td>31.575594</td>\n",
       "      <td>4787100</td>\n",
       "      <td>0.879997</td>\n",
       "    </tr>\n",
       "    <tr>\n",
       "      <th>1256</th>\n",
       "      <td>2013-01-10</td>\n",
       "      <td>33.459999</td>\n",
       "      <td>33.590000</td>\n",
       "      <td>33.020000</td>\n",
       "      <td>33.520000</td>\n",
       "      <td>30.821594</td>\n",
       "      <td>4459100</td>\n",
       "      <td>0.570000</td>\n",
       "    </tr>\n",
       "    <tr>\n",
       "      <th>1257</th>\n",
       "      <td>2013-01-09</td>\n",
       "      <td>32.500000</td>\n",
       "      <td>32.959999</td>\n",
       "      <td>32.360001</td>\n",
       "      <td>32.810001</td>\n",
       "      <td>30.168762</td>\n",
       "      <td>2945600</td>\n",
       "      <td>0.599998</td>\n",
       "    </tr>\n",
       "    <tr>\n",
       "      <th>1258</th>\n",
       "      <td>2013-01-08</td>\n",
       "      <td>32.450001</td>\n",
       "      <td>32.700001</td>\n",
       "      <td>32.090000</td>\n",
       "      <td>32.099998</td>\n",
       "      <td>29.515913</td>\n",
       "      <td>2096900</td>\n",
       "      <td>0.610001</td>\n",
       "    </tr>\n",
       "    <tr>\n",
       "      <th>1259</th>\n",
       "      <td>2013-01-07</td>\n",
       "      <td>32.369999</td>\n",
       "      <td>32.490002</td>\n",
       "      <td>32.099998</td>\n",
       "      <td>32.320000</td>\n",
       "      <td>29.718203</td>\n",
       "      <td>1682200</td>\n",
       "      <td>0.390004</td>\n",
       "    </tr>\n",
       "  </tbody>\n",
       "</table>\n",
       "</div>"
      ],
      "text/plain": [
       "            Date       Open       High        Low      Close  Adj Close  \\\n",
       "1255  2013-01-11  33.540001  34.369999  33.490002  34.340000  31.575594   \n",
       "1256  2013-01-10  33.459999  33.590000  33.020000  33.520000  30.821594   \n",
       "1257  2013-01-09  32.500000  32.959999  32.360001  32.810001  30.168762   \n",
       "1258  2013-01-08  32.450001  32.700001  32.090000  32.099998  29.515913   \n",
       "1259  2013-01-07  32.369999  32.490002  32.099998  32.320000  29.718203   \n",
       "\n",
       "       Volume  High - Low  \n",
       "1255  4787100    0.879997  \n",
       "1256  4459100    0.570000  \n",
       "1257  2945600    0.599998  \n",
       "1258  2096900    0.610001  \n",
       "1259  1682200    0.390004  "
      ]
     },
     "execution_count": 18,
     "metadata": {},
     "output_type": "execute_result"
    }
   ],
   "source": [
    "rem_data.tail()"
   ]
  },
  {
   "cell_type": "markdown",
   "metadata": {},
   "source": [
    "## Setup to derive seven ensuing days of data\n",
    "\n",
    "I have a new column. This will eventually become all my predictions.\n",
    "Thus, i will have to appropriatley extract \"day1 prices\" from 1 day ahead to the end minus one day."
   ]
  },
  {
   "cell_type": "code",
   "execution_count": 19,
   "metadata": {
    "collapsed": true
   },
   "outputs": [],
   "source": [
    "day1 = df['Adj Close'][0:-1].copy(deep=True)"
   ]
  },
  {
   "cell_type": "code",
   "execution_count": 20,
   "metadata": {},
   "outputs": [
    {
     "data": {
      "text/plain": [
       "0    271.619995\n",
       "1    270.019989\n",
       "2    269.929993\n",
       "3    267.010010\n",
       "4    256.899994\n",
       "Name: Adj Close, dtype: float64"
      ]
     },
     "execution_count": 20,
     "metadata": {},
     "output_type": "execute_result"
    }
   ],
   "source": [
    "day1.head()"
   ]
  },
  {
   "cell_type": "markdown",
   "metadata": {},
   "source": [
    "## Setup new data frames and reset indices\n",
    "\n",
    "It is of paramount importance to setup new dataframes and reset indices. Without this it is going to be very tricky to combine the dataframes. It is possible to copy in various ways. However, not doing the correct way will result in nasty warnings despite working. The steps below throw out NO warnings."
   ]
  },
  {
   "cell_type": "code",
   "execution_count": 21,
   "metadata": {
    "collapsed": true
   },
   "outputs": [],
   "source": [
    "d1 = pd.DataFrame(data = day1)"
   ]
  },
  {
   "cell_type": "code",
   "execution_count": 22,
   "metadata": {
    "collapsed": true
   },
   "outputs": [],
   "source": [
    "d1 = d1.rename(columns={'Adj Close': 'Day 1'})\n",
    "d1 = d1.reset_index()\n"
   ]
  },
  {
   "cell_type": "markdown",
   "metadata": {},
   "source": [
    "## Delete Index columns\n",
    "\n",
    "Deleting index columns will make it easy to concat the various individual data frames."
   ]
  },
  {
   "cell_type": "code",
   "execution_count": 23,
   "metadata": {},
   "outputs": [
    {
     "data": {
      "text/html": [
       "<div>\n",
       "<style>\n",
       "    .dataframe thead tr:only-child th {\n",
       "        text-align: right;\n",
       "    }\n",
       "\n",
       "    .dataframe thead th {\n",
       "        text-align: left;\n",
       "    }\n",
       "\n",
       "    .dataframe tbody tr th {\n",
       "        vertical-align: top;\n",
       "    }\n",
       "</style>\n",
       "<table border=\"1\" class=\"dataframe\">\n",
       "  <thead>\n",
       "    <tr style=\"text-align: right;\">\n",
       "      <th></th>\n",
       "      <th>Day 1</th>\n",
       "    </tr>\n",
       "  </thead>\n",
       "  <tbody>\n",
       "    <tr>\n",
       "      <th>0</th>\n",
       "      <td>271.619995</td>\n",
       "    </tr>\n",
       "    <tr>\n",
       "      <th>1</th>\n",
       "      <td>270.019989</td>\n",
       "    </tr>\n",
       "    <tr>\n",
       "      <th>2</th>\n",
       "      <td>269.929993</td>\n",
       "    </tr>\n",
       "    <tr>\n",
       "      <th>3</th>\n",
       "      <td>267.010010</td>\n",
       "    </tr>\n",
       "    <tr>\n",
       "      <th>4</th>\n",
       "      <td>256.899994</td>\n",
       "    </tr>\n",
       "  </tbody>\n",
       "</table>\n",
       "</div>"
      ],
      "text/plain": [
       "        Day 1\n",
       "0  271.619995\n",
       "1  270.019989\n",
       "2  269.929993\n",
       "3  267.010010\n",
       "4  256.899994"
      ]
     },
     "execution_count": 23,
     "metadata": {},
     "output_type": "execute_result"
    }
   ],
   "source": [
    "del d1['index']\n",
    "d1.head()"
   ]
  },
  {
   "cell_type": "code",
   "execution_count": 24,
   "metadata": {},
   "outputs": [
    {
     "data": {
      "text/html": [
       "<div>\n",
       "<style>\n",
       "    .dataframe thead tr:only-child th {\n",
       "        text-align: right;\n",
       "    }\n",
       "\n",
       "    .dataframe thead th {\n",
       "        text-align: left;\n",
       "    }\n",
       "\n",
       "    .dataframe tbody tr th {\n",
       "        vertical-align: top;\n",
       "    }\n",
       "</style>\n",
       "<table border=\"1\" class=\"dataframe\">\n",
       "  <thead>\n",
       "    <tr style=\"text-align: right;\">\n",
       "      <th></th>\n",
       "      <th>Date</th>\n",
       "      <th>Open</th>\n",
       "      <th>High</th>\n",
       "      <th>Low</th>\n",
       "      <th>Close</th>\n",
       "      <th>Adj Close</th>\n",
       "      <th>Volume</th>\n",
       "      <th>High - Low</th>\n",
       "    </tr>\n",
       "  </thead>\n",
       "  <tbody>\n",
       "    <tr>\n",
       "      <th>0</th>\n",
       "      <td>2018-01-04</td>\n",
       "      <td>271.589996</td>\n",
       "      <td>271.760010</td>\n",
       "      <td>268.429993</td>\n",
       "      <td>270.019989</td>\n",
       "      <td>270.019989</td>\n",
       "      <td>1906700</td>\n",
       "      <td>3.330017</td>\n",
       "    </tr>\n",
       "    <tr>\n",
       "      <th>1</th>\n",
       "      <td>2018-01-03</td>\n",
       "      <td>267.290009</td>\n",
       "      <td>270.730011</td>\n",
       "      <td>266.029999</td>\n",
       "      <td>269.929993</td>\n",
       "      <td>269.929993</td>\n",
       "      <td>3116100</td>\n",
       "      <td>4.700012</td>\n",
       "    </tr>\n",
       "    <tr>\n",
       "      <th>2</th>\n",
       "      <td>2018-01-02</td>\n",
       "      <td>259.769989</td>\n",
       "      <td>267.500000</td>\n",
       "      <td>257.570007</td>\n",
       "      <td>267.010010</td>\n",
       "      <td>267.010010</td>\n",
       "      <td>3313500</td>\n",
       "      <td>9.929993</td>\n",
       "    </tr>\n",
       "    <tr>\n",
       "      <th>3</th>\n",
       "      <td>2017-12-29</td>\n",
       "      <td>259.769989</td>\n",
       "      <td>261.950012</td>\n",
       "      <td>256.640015</td>\n",
       "      <td>256.899994</td>\n",
       "      <td>256.899994</td>\n",
       "      <td>1798000</td>\n",
       "      <td>5.309997</td>\n",
       "    </tr>\n",
       "    <tr>\n",
       "      <th>4</th>\n",
       "      <td>2017-12-28</td>\n",
       "      <td>260.160004</td>\n",
       "      <td>260.799988</td>\n",
       "      <td>258.549988</td>\n",
       "      <td>260.420013</td>\n",
       "      <td>260.420013</td>\n",
       "      <td>1364100</td>\n",
       "      <td>2.250000</td>\n",
       "    </tr>\n",
       "  </tbody>\n",
       "</table>\n",
       "</div>"
      ],
      "text/plain": [
       "         Date        Open        High         Low       Close   Adj Close  \\\n",
       "0  2018-01-04  271.589996  271.760010  268.429993  270.019989  270.019989   \n",
       "1  2018-01-03  267.290009  270.730011  266.029999  269.929993  269.929993   \n",
       "2  2018-01-02  259.769989  267.500000  257.570007  267.010010  267.010010   \n",
       "3  2017-12-29  259.769989  261.950012  256.640015  256.899994  256.899994   \n",
       "4  2017-12-28  260.160004  260.799988  258.549988  260.420013  260.420013   \n",
       "\n",
       "    Volume  High - Low  \n",
       "0  1906700    3.330017  \n",
       "1  3116100    4.700012  \n",
       "2  3313500    9.929993  \n",
       "3  1798000    5.309997  \n",
       "4  1364100    2.250000  "
      ]
     },
     "execution_count": 24,
     "metadata": {},
     "output_type": "execute_result"
    }
   ],
   "source": [
    "rem_data = rem_data.reset_index()\n",
    "del rem_data['index']\n",
    "rem_data.head()"
   ]
  },
  {
   "cell_type": "markdown",
   "metadata": {},
   "source": [
    "## Concat various data frames to create the AVGO dataframe\n",
    "\n",
    "The \"avgo\" dataframe is the data frame that will be used for further analysis in the project.\n",
    "This updated data frame has the column \"Day 1\" which will be our target \"y\" or prediction labels. "
   ]
  },
  {
   "cell_type": "code",
   "execution_count": 25,
   "metadata": {
    "collapsed": true
   },
   "outputs": [],
   "source": [
    "avgo = pd.concat([rem_data,d1], axis = 1, join='inner')"
   ]
  },
  {
   "cell_type": "code",
   "execution_count": 26,
   "metadata": {},
   "outputs": [
    {
     "data": {
      "text/html": [
       "<div>\n",
       "<style>\n",
       "    .dataframe thead tr:only-child th {\n",
       "        text-align: right;\n",
       "    }\n",
       "\n",
       "    .dataframe thead th {\n",
       "        text-align: left;\n",
       "    }\n",
       "\n",
       "    .dataframe tbody tr th {\n",
       "        vertical-align: top;\n",
       "    }\n",
       "</style>\n",
       "<table border=\"1\" class=\"dataframe\">\n",
       "  <thead>\n",
       "    <tr style=\"text-align: right;\">\n",
       "      <th></th>\n",
       "      <th>Date</th>\n",
       "      <th>Open</th>\n",
       "      <th>High</th>\n",
       "      <th>Low</th>\n",
       "      <th>Close</th>\n",
       "      <th>Adj Close</th>\n",
       "      <th>Volume</th>\n",
       "      <th>High - Low</th>\n",
       "      <th>Day 1</th>\n",
       "    </tr>\n",
       "  </thead>\n",
       "  <tbody>\n",
       "    <tr>\n",
       "      <th>0</th>\n",
       "      <td>2018-01-04</td>\n",
       "      <td>271.589996</td>\n",
       "      <td>271.760010</td>\n",
       "      <td>268.429993</td>\n",
       "      <td>270.019989</td>\n",
       "      <td>270.019989</td>\n",
       "      <td>1906700</td>\n",
       "      <td>3.330017</td>\n",
       "      <td>271.619995</td>\n",
       "    </tr>\n",
       "    <tr>\n",
       "      <th>1</th>\n",
       "      <td>2018-01-03</td>\n",
       "      <td>267.290009</td>\n",
       "      <td>270.730011</td>\n",
       "      <td>266.029999</td>\n",
       "      <td>269.929993</td>\n",
       "      <td>269.929993</td>\n",
       "      <td>3116100</td>\n",
       "      <td>4.700012</td>\n",
       "      <td>270.019989</td>\n",
       "    </tr>\n",
       "    <tr>\n",
       "      <th>2</th>\n",
       "      <td>2018-01-02</td>\n",
       "      <td>259.769989</td>\n",
       "      <td>267.500000</td>\n",
       "      <td>257.570007</td>\n",
       "      <td>267.010010</td>\n",
       "      <td>267.010010</td>\n",
       "      <td>3313500</td>\n",
       "      <td>9.929993</td>\n",
       "      <td>269.929993</td>\n",
       "    </tr>\n",
       "    <tr>\n",
       "      <th>3</th>\n",
       "      <td>2017-12-29</td>\n",
       "      <td>259.769989</td>\n",
       "      <td>261.950012</td>\n",
       "      <td>256.640015</td>\n",
       "      <td>256.899994</td>\n",
       "      <td>256.899994</td>\n",
       "      <td>1798000</td>\n",
       "      <td>5.309997</td>\n",
       "      <td>267.010010</td>\n",
       "    </tr>\n",
       "    <tr>\n",
       "      <th>4</th>\n",
       "      <td>2017-12-28</td>\n",
       "      <td>260.160004</td>\n",
       "      <td>260.799988</td>\n",
       "      <td>258.549988</td>\n",
       "      <td>260.420013</td>\n",
       "      <td>260.420013</td>\n",
       "      <td>1364100</td>\n",
       "      <td>2.250000</td>\n",
       "      <td>256.899994</td>\n",
       "    </tr>\n",
       "    <tr>\n",
       "      <th>5</th>\n",
       "      <td>2017-12-27</td>\n",
       "      <td>258.839996</td>\n",
       "      <td>261.609985</td>\n",
       "      <td>258.500000</td>\n",
       "      <td>259.119995</td>\n",
       "      <td>259.119995</td>\n",
       "      <td>3561500</td>\n",
       "      <td>3.109985</td>\n",
       "      <td>260.420013</td>\n",
       "    </tr>\n",
       "    <tr>\n",
       "      <th>6</th>\n",
       "      <td>2017-12-26</td>\n",
       "      <td>257.230011</td>\n",
       "      <td>262.350006</td>\n",
       "      <td>253.389999</td>\n",
       "      <td>258.100006</td>\n",
       "      <td>258.100006</td>\n",
       "      <td>2225600</td>\n",
       "      <td>8.960007</td>\n",
       "      <td>259.119995</td>\n",
       "    </tr>\n",
       "    <tr>\n",
       "      <th>7</th>\n",
       "      <td>2017-12-22</td>\n",
       "      <td>261.820007</td>\n",
       "      <td>263.369995</td>\n",
       "      <td>258.700012</td>\n",
       "      <td>262.350006</td>\n",
       "      <td>262.350006</td>\n",
       "      <td>1461700</td>\n",
       "      <td>4.669983</td>\n",
       "      <td>258.100006</td>\n",
       "    </tr>\n",
       "    <tr>\n",
       "      <th>8</th>\n",
       "      <td>2017-12-21</td>\n",
       "      <td>265.950012</td>\n",
       "      <td>266.250000</td>\n",
       "      <td>261.070007</td>\n",
       "      <td>261.529999</td>\n",
       "      <td>261.529999</td>\n",
       "      <td>1775800</td>\n",
       "      <td>5.179993</td>\n",
       "      <td>262.350006</td>\n",
       "    </tr>\n",
       "    <tr>\n",
       "      <th>9</th>\n",
       "      <td>2017-12-20</td>\n",
       "      <td>266.140015</td>\n",
       "      <td>266.350006</td>\n",
       "      <td>262.779999</td>\n",
       "      <td>265.640015</td>\n",
       "      <td>265.640015</td>\n",
       "      <td>1984500</td>\n",
       "      <td>3.570007</td>\n",
       "      <td>261.529999</td>\n",
       "    </tr>\n",
       "  </tbody>\n",
       "</table>\n",
       "</div>"
      ],
      "text/plain": [
       "         Date        Open        High         Low       Close   Adj Close  \\\n",
       "0  2018-01-04  271.589996  271.760010  268.429993  270.019989  270.019989   \n",
       "1  2018-01-03  267.290009  270.730011  266.029999  269.929993  269.929993   \n",
       "2  2018-01-02  259.769989  267.500000  257.570007  267.010010  267.010010   \n",
       "3  2017-12-29  259.769989  261.950012  256.640015  256.899994  256.899994   \n",
       "4  2017-12-28  260.160004  260.799988  258.549988  260.420013  260.420013   \n",
       "5  2017-12-27  258.839996  261.609985  258.500000  259.119995  259.119995   \n",
       "6  2017-12-26  257.230011  262.350006  253.389999  258.100006  258.100006   \n",
       "7  2017-12-22  261.820007  263.369995  258.700012  262.350006  262.350006   \n",
       "8  2017-12-21  265.950012  266.250000  261.070007  261.529999  261.529999   \n",
       "9  2017-12-20  266.140015  266.350006  262.779999  265.640015  265.640015   \n",
       "\n",
       "    Volume  High - Low       Day 1  \n",
       "0  1906700    3.330017  271.619995  \n",
       "1  3116100    4.700012  270.019989  \n",
       "2  3313500    9.929993  269.929993  \n",
       "3  1798000    5.309997  267.010010  \n",
       "4  1364100    2.250000  256.899994  \n",
       "5  3561500    3.109985  260.420013  \n",
       "6  2225600    8.960007  259.119995  \n",
       "7  1461700    4.669983  258.100006  \n",
       "8  1775800    5.179993  262.350006  \n",
       "9  1984500    3.570007  261.529999  "
      ]
     },
     "execution_count": 26,
     "metadata": {},
     "output_type": "execute_result"
    }
   ],
   "source": [
    "avgo.head(10)"
   ]
  },
  {
   "cell_type": "markdown",
   "metadata": {},
   "source": [
    "## Display Some Plots"
   ]
  },
  {
   "cell_type": "code",
   "execution_count": 27,
   "metadata": {},
   "outputs": [
    {
     "data": {
      "image/png": "[encoded data removed]",
      "text/plain": [
       "<matplotlib.figure.Figure at 0x1e78c2e7dd8>"
      ]
     },
     "metadata": {},
     "output_type": "display_data"
    }
   ],
   "source": [
    "avgo.plot(x = 'Date', y = 'Open')\n",
    "plt.gca().invert_xaxis()\n",
    "plt.show()"
   ]
  },
  {
   "cell_type": "code",
   "execution_count": 28,
   "metadata": {},
   "outputs": [
    {
     "data": {
      "image/png": "[encoded data removed]",
      "text/plain": [
       "<matplotlib.figure.Figure at 0x1e78c44e0f0>"
      ]
     },
     "metadata": {},
     "output_type": "display_data"
    }
   ],
   "source": [
    "avgo.plot(x = 'Date', y = 'Adj Close')\n",
    "plt.gca().invert_xaxis()\n",
    "plt.show()"
   ]
  },
  {
   "cell_type": "code",
   "execution_count": 29,
   "metadata": {},
   "outputs": [
    {
     "data": {
      "text/html": [
       "<div>\n",
       "<style>\n",
       "    .dataframe thead tr:only-child th {\n",
       "        text-align: right;\n",
       "    }\n",
       "\n",
       "    .dataframe thead th {\n",
       "        text-align: left;\n",
       "    }\n",
       "\n",
       "    .dataframe tbody tr th {\n",
       "        vertical-align: top;\n",
       "    }\n",
       "</style>\n",
       "<table border=\"1\" class=\"dataframe\">\n",
       "  <thead>\n",
       "    <tr style=\"text-align: right;\">\n",
       "      <th></th>\n",
       "      <th>Date</th>\n",
       "      <th>Open</th>\n",
       "      <th>High</th>\n",
       "      <th>Low</th>\n",
       "      <th>Close</th>\n",
       "      <th>Adj Close</th>\n",
       "      <th>Volume</th>\n",
       "      <th>High - Low</th>\n",
       "      <th>Day 1</th>\n",
       "    </tr>\n",
       "  </thead>\n",
       "  <tbody>\n",
       "    <tr>\n",
       "      <th>0</th>\n",
       "      <td>2013-01-07</td>\n",
       "      <td>32.369999</td>\n",
       "      <td>32.490002</td>\n",
       "      <td>32.099998</td>\n",
       "      <td>32.320000</td>\n",
       "      <td>29.718203</td>\n",
       "      <td>1682200</td>\n",
       "      <td>0.390004</td>\n",
       "      <td>29.515913</td>\n",
       "    </tr>\n",
       "    <tr>\n",
       "      <th>1</th>\n",
       "      <td>2013-01-08</td>\n",
       "      <td>32.450001</td>\n",
       "      <td>32.700001</td>\n",
       "      <td>32.090000</td>\n",
       "      <td>32.099998</td>\n",
       "      <td>29.515913</td>\n",
       "      <td>2096900</td>\n",
       "      <td>0.610001</td>\n",
       "      <td>30.168762</td>\n",
       "    </tr>\n",
       "    <tr>\n",
       "      <th>2</th>\n",
       "      <td>2013-01-09</td>\n",
       "      <td>32.500000</td>\n",
       "      <td>32.959999</td>\n",
       "      <td>32.360001</td>\n",
       "      <td>32.810001</td>\n",
       "      <td>30.168762</td>\n",
       "      <td>2945600</td>\n",
       "      <td>0.599998</td>\n",
       "      <td>30.821594</td>\n",
       "    </tr>\n",
       "    <tr>\n",
       "      <th>3</th>\n",
       "      <td>2013-01-10</td>\n",
       "      <td>33.459999</td>\n",
       "      <td>33.590000</td>\n",
       "      <td>33.020000</td>\n",
       "      <td>33.520000</td>\n",
       "      <td>30.821594</td>\n",
       "      <td>4459100</td>\n",
       "      <td>0.570000</td>\n",
       "      <td>31.575594</td>\n",
       "    </tr>\n",
       "    <tr>\n",
       "      <th>4</th>\n",
       "      <td>2013-01-11</td>\n",
       "      <td>33.540001</td>\n",
       "      <td>34.369999</td>\n",
       "      <td>33.490002</td>\n",
       "      <td>34.340000</td>\n",
       "      <td>31.575594</td>\n",
       "      <td>4787100</td>\n",
       "      <td>0.879997</td>\n",
       "      <td>31.787071</td>\n",
       "    </tr>\n",
       "  </tbody>\n",
       "</table>\n",
       "</div>"
      ],
      "text/plain": [
       "         Date       Open       High        Low      Close  Adj Close   Volume  \\\n",
       "0  2013-01-07  32.369999  32.490002  32.099998  32.320000  29.718203  1682200   \n",
       "1  2013-01-08  32.450001  32.700001  32.090000  32.099998  29.515913  2096900   \n",
       "2  2013-01-09  32.500000  32.959999  32.360001  32.810001  30.168762  2945600   \n",
       "3  2013-01-10  33.459999  33.590000  33.020000  33.520000  30.821594  4459100   \n",
       "4  2013-01-11  33.540001  34.369999  33.490002  34.340000  31.575594  4787100   \n",
       "\n",
       "   High - Low      Day 1  \n",
       "0    0.390004  29.515913  \n",
       "1    0.610001  30.168762  \n",
       "2    0.599998  30.821594  \n",
       "3    0.570000  31.575594  \n",
       "4    0.879997  31.787071  "
      ]
     },
     "execution_count": 29,
     "metadata": {},
     "output_type": "execute_result"
    }
   ],
   "source": [
    "avgo = avgo.iloc[::-1]\n",
    "avgo = avgo.reset_index()\n",
    "del avgo['index']\n",
    "\n",
    "avgo.head()"
   ]
  },
  {
   "cell_type": "code",
   "execution_count": 30,
   "metadata": {
    "collapsed": true
   },
   "outputs": [],
   "source": [
    "y = avgo['Day 1'].values\n"
   ]
  },
  {
   "cell_type": "code",
   "execution_count": 31,
   "metadata": {
    "collapsed": true
   },
   "outputs": [],
   "source": [
    "X = avgo[['Open','Volume','Adj Close','High']].as_matrix()"
   ]
  },
  {
   "cell_type": "code",
   "execution_count": 32,
   "metadata": {
    "collapsed": true
   },
   "outputs": [],
   "source": [
    "X_train = X[0:1258]\n",
    "X_test  = X[1258:1259]\n",
    "y_train = y[0:1258]\n",
    "y_test  = y[1258:1259]"
   ]
  },
  {
   "cell_type": "code",
   "execution_count": 33,
   "metadata": {},
   "outputs": [
    {
     "name": "stdout",
     "output_type": "stream",
     "text": [
      "[ 270.22028192] [ 271.619995]\n",
      "Root Mean squared error: 1.40\n"
     ]
    }
   ],
   "source": [
    "linreg = linear_model.LinearRegression()\n",
    "linreg.fit(X_train, y_train)\n",
    "y_pred = linreg.predict(X_test)\n",
    "\n",
    "print(y_pred, y_test)\n",
    "\n",
    "# The root mean squared error\n",
    "print(\"Root Mean squared error: %.2f\"\n",
    "      % sqrt(mean_squared_error(y_test, y_pred)))\n"
   ]
  },
  {
   "cell_type": "code",
   "execution_count": 34,
   "metadata": {},
   "outputs": [
    {
     "name": "stdout",
     "output_type": "stream",
     "text": [
      "[ 120.07810731] [ 271.619995]\n",
      "Root Mean squared error: 151.54\n"
     ]
    }
   ],
   "source": [
    "\n",
    "\n",
    "\n",
    "clf = SVR(C=1.0, epsilon=0.2)\n",
    "clf.fit(X_train, y_train)\n",
    "\n",
    "y_pred = clf.predict(X_test)\n",
    "\n",
    "print(y_pred, y_test)\n",
    "\n",
    "# The root mean squared error\n",
    "print(\"Root Mean squared error: %.2f\"\n",
    "      % sqrt(mean_squared_error(y_test, y_pred)))"
   ]
  },
  {
   "cell_type": "code",
   "execution_count": 35,
   "metadata": {},
   "outputs": [
    {
     "name": "stdout",
     "output_type": "stream",
     "text": [
      "[ 280.520355] [ 271.619995]\n",
      "Root Mean squared error: 8.90\n"
     ]
    }
   ],
   "source": [
    "clf = DecisionTreeRegressor(random_state=0)\n",
    "clf.fit(X_train, y_train)\n",
    "\n",
    "y_pred = clf.predict(X_test)\n",
    "\n",
    "print(y_pred, y_test)\n",
    "\n",
    "# The root mean squared error\n",
    "print(\"Root Mean squared error: %.2f\"\n",
    "      % sqrt(mean_squared_error(y_test, y_pred)))"
   ]
  },
  {
   "cell_type": "code",
   "execution_count": 36,
   "metadata": {},
   "outputs": [
    {
     "name": "stdout",
     "output_type": "stream",
     "text": [
      "[ 270.57434865] [ 271.619995]\n",
      "Root Mean squared error: 1.05\n"
     ]
    }
   ],
   "source": [
    "from sklearn.ensemble import RandomForestRegressor\n",
    "\n",
    "clf = RandomForestRegressor(max_depth=5, random_state=0)\n",
    "clf.fit(X_train, y_train)\n",
    "\n",
    "y_pred = clf.predict(X_test)\n",
    "\n",
    "print(y_pred, y_test)\n",
    "\n",
    "# The root mean squared error\n",
    "print(\"Root Mean squared error: %.2f\"\n",
    "      % sqrt(mean_squared_error(y_test, y_pred)))"
   ]
  },
  {
   "cell_type": "code",
   "execution_count": 68,
   "metadata": {
    "collapsed": true
   },
   "outputs": [],
   "source": [
    "def split_data(X, y, start, end):\n",
    "    return X[start:end], y[start:end], X[end:end+1], y[end:end+1]\n",
    "\n"
   ]
  },
  {
   "cell_type": "code",
   "execution_count": 69,
   "metadata": {
    "collapsed": true
   },
   "outputs": [],
   "source": [
    "X_train, y_train, X_test, y_test = split_data(X, y, 0, 1258)"
   ]
  },
  {
   "cell_type": "code",
   "execution_count": 39,
   "metadata": {},
   "outputs": [
    {
     "name": "stdout",
     "output_type": "stream",
     "text": [
      "[ 280.520355] [ 271.619995]\n",
      "Root Mean squared error: 8.90\n"
     ]
    }
   ],
   "source": [
    "clf = DecisionTreeRegressor(random_state=0)\n",
    "clf.fit(X_train, y_train)\n",
    "\n",
    "y_pred = clf.predict(X_test)\n",
    "\n",
    "print(y_pred, y_test)\n",
    "\n",
    "# The root mean squared error\n",
    "print(\"Root Mean squared error: %.2f\"\n",
    "      % sqrt(mean_squared_error(y_test, y_pred)))"
   ]
  },
  {
   "cell_type": "code",
   "execution_count": 40,
   "metadata": {},
   "outputs": [
    {
     "name": "stdout",
     "output_type": "stream",
     "text": [
      "[ 270.57434865] [ 271.619995]\n",
      "Root Mean squared error: 1.05\n"
     ]
    }
   ],
   "source": [
    "clf = RandomForestRegressor(max_depth=5, random_state=0)\n",
    "clf.fit(X_train, y_train)\n",
    "\n",
    "y_pred = clf.predict(X_test)\n",
    "\n",
    "print(y_pred, y_test)\n",
    "\n",
    "# The root mean squared error\n",
    "print(\"Root Mean squared error: %.2f\"\n",
    "      % sqrt(mean_squared_error(y_test, y_pred)))"
   ]
  },
  {
   "cell_type": "code",
   "execution_count": 41,
   "metadata": {},
   "outputs": [
    {
     "name": "stdout",
     "output_type": "stream",
     "text": [
      "[ 120.07810731] [ 271.619995]\n",
      "Root Mean squared error: 151.54\n"
     ]
    }
   ],
   "source": [
    "clf = SVR(C=1.0, epsilon=0.2)\n",
    "clf.fit(X_train, y_train)\n",
    "\n",
    "y_pred = clf.predict(X_test)\n",
    "\n",
    "print(y_pred, y_test)\n",
    "\n",
    "# The root mean squared error\n",
    "print(\"Root Mean squared error: %.2f\"\n",
    "      % sqrt(mean_squared_error(y_test, y_pred)))"
   ]
  },
  {
   "cell_type": "code",
   "execution_count": 42,
   "metadata": {},
   "outputs": [
    {
     "name": "stdout",
     "output_type": "stream",
     "text": [
      "[ 270.22028192] [ 271.619995]\n",
      "Root Mean squared error: 1.40\n"
     ]
    }
   ],
   "source": [
    "linreg = linear_model.LinearRegression()\n",
    "linreg.fit(X_train, y_train)\n",
    "y_pred = linreg.predict(X_test)\n",
    "\n",
    "print(y_pred, y_test)\n",
    "\n",
    "# The root mean squared error\n",
    "print(\"Root Mean squared error: %.2f\"\n",
    "      % sqrt(mean_squared_error(y_test, y_pred)))"
   ]
  },
  {
   "cell_type": "code",
   "execution_count": 43,
   "metadata": {},
   "outputs": [
    {
     "name": "stdout",
     "output_type": "stream",
     "text": [
      "1258\n",
      "1258\n",
      "1258\n"
     ]
    }
   ],
   "source": [
    "\n",
    "\n",
    "scaler = StandardScaler()\n",
    "\n",
    "X_train_scaled = scaler.fit_transform(X_train)\n",
    "X_test_scaled = scaler.fit_transform(X_test)\n",
    "\n",
    "print(len(X_train))\n",
    "print(len(X_train_scaled))\n",
    "print(len(y_train))\n"
   ]
  },
  {
   "cell_type": "code",
   "execution_count": 44,
   "metadata": {},
   "outputs": [
    {
     "data": {
      "text/plain": [
       "DecisionTreeRegressor(criterion='mse', max_depth=None, max_features='auto',\n",
       "           max_leaf_nodes=None, min_impurity_decrease=0.0,\n",
       "           min_impurity_split=None, min_samples_leaf=1,\n",
       "           min_samples_split=2, min_weight_fraction_leaf=0.0,\n",
       "           presort=False, random_state=None, splitter='best')"
      ]
     },
     "execution_count": 44,
     "metadata": {},
     "output_type": "execute_result"
    }
   ],
   "source": [
    "# Do Time Series Split\n",
    "tscv = TimeSeriesSplit(n_splits = 10)\n",
    "tscv.split(X_train,y_train)\n",
    "\n",
    "# Create a decision tree regressor object\n",
    "regr = DecisionTreeRegressor()\n",
    "\n",
    "# Params to Search\n",
    "params = {'max_features':['auto']}\n",
    "\n",
    "# Peform Grid Search\n",
    "grid = GridSearchCV(regr, params, cv=tscv)\n",
    "\n",
    "# Fit The Data\n",
    "grid = grid.fit(X_train,y_train)\n",
    "\n",
    "# Find Optimal Model\n",
    "grid.best_estimator_"
   ]
  },
  {
   "cell_type": "code",
   "execution_count": 45,
   "metadata": {},
   "outputs": [
    {
     "name": "stdout",
     "output_type": "stream",
     "text": [
      "[ 280.520355] [ 271.619995]\n",
      "Root Mean squared error: 8.90\n"
     ]
    }
   ],
   "source": [
    "model = grid.best_estimator_\n",
    "y_pred = model.predict(X_test)\n",
    "print(y_pred, y_test)\n",
    "print(\"Root Mean squared error: %.2f\"\n",
    "      % sqrt(mean_squared_error(y_test, y_pred)))"
   ]
  },
  {
   "cell_type": "code",
   "execution_count": 46,
   "metadata": {},
   "outputs": [
    {
     "data": {
      "text/plain": [
       "RandomForestRegressor(bootstrap=True, criterion='mse', max_depth=None,\n",
       "           max_features='auto', max_leaf_nodes=None,\n",
       "           min_impurity_decrease=0.0, min_impurity_split=None,\n",
       "           min_samples_leaf=2, min_samples_split=2,\n",
       "           min_weight_fraction_leaf=0.0, n_estimators=20, n_jobs=1,\n",
       "           oob_score=False, random_state=None, verbose=0, warm_start=False)"
      ]
     },
     "execution_count": 46,
     "metadata": {},
     "output_type": "execute_result"
    }
   ],
   "source": [
    "# Do Time Series Split\n",
    "tscv = TimeSeriesSplit(n_splits = 10)\n",
    "tscv.split(X_train,y_train)\n",
    "\n",
    "# Create a Random Forest regressor object\n",
    "regr = RandomForestRegressor(n_estimators = 20)\n",
    "\n",
    "# Create a dictionary for the parameter 'max_depth' with a range from 1 to 100\n",
    "params = {'min_samples_leaf':range(1,10)}\n",
    "\n",
    "# Peform Grid Searcht\n",
    "grid = GridSearchCV(regr, params, cv=tscv)\n",
    "\n",
    "# Fit The Dat\n",
    "grid = grid.fit(X_train,y_train)\n",
    "\n",
    "# Find Optimal Model\n",
    "grid.best_estimator_"
   ]
  },
  {
   "cell_type": "code",
   "execution_count": 47,
   "metadata": {},
   "outputs": [
    {
     "name": "stdout",
     "output_type": "stream",
     "text": [
      "[ 274.29600006] [ 271.619995]\n",
      "Root Mean squared error: 2.68\n"
     ]
    }
   ],
   "source": [
    "model = grid.best_estimator_\n",
    "y_pred = model.predict(X_test)\n",
    "print(y_pred, y_test)\n",
    "print(\"Root Mean squared error: %.2f\"\n",
    "      % sqrt(mean_squared_error(y_test, y_pred)))"
   ]
  },
  {
   "cell_type": "code",
   "execution_count": 48,
   "metadata": {},
   "outputs": [],
   "source": [
    "df1 = df1.rename(columns={'Adj Close': 'AAPL Adj Close'})\n",
    "df1 = df1.reset_index()\n",
    "df2 = df2.rename(columns={'Adj Close': 'SMH Adj Close'})\n",
    "df2 = df2.reset_index()"
   ]
  },
  {
   "cell_type": "code",
   "execution_count": 49,
   "metadata": {},
   "outputs": [],
   "source": [
    "aapl = df1['AAPL Adj Close']\n",
    "smh = df2['SMH Adj Close']"
   ]
  },
  {
   "cell_type": "code",
   "execution_count": 50,
   "metadata": {},
   "outputs": [],
   "source": [
    "aapl = pd.DataFrame(data = aapl)\n",
    "smh = pd.DataFrame(data = smh)\n",
    "\n",
    "aapl = aapl.reset_index()\n",
    "del aapl['index']\n",
    "smh = smh.reset_index()\n",
    "del smh['index']"
   ]
  },
  {
   "cell_type": "code",
   "execution_count": 51,
   "metadata": {},
   "outputs": [
    {
     "data": {
      "text/html": [
       "<div>\n",
       "<style>\n",
       "    .dataframe thead tr:only-child th {\n",
       "        text-align: right;\n",
       "    }\n",
       "\n",
       "    .dataframe thead th {\n",
       "        text-align: left;\n",
       "    }\n",
       "\n",
       "    .dataframe tbody tr th {\n",
       "        vertical-align: top;\n",
       "    }\n",
       "</style>\n",
       "<table border=\"1\" class=\"dataframe\">\n",
       "  <thead>\n",
       "    <tr style=\"text-align: right;\">\n",
       "      <th></th>\n",
       "      <th>AAPL Adj Close</th>\n",
       "    </tr>\n",
       "  </thead>\n",
       "  <tbody>\n",
       "    <tr>\n",
       "      <th>0</th>\n",
       "      <td>67.687439</td>\n",
       "    </tr>\n",
       "    <tr>\n",
       "      <th>1</th>\n",
       "      <td>67.869614</td>\n",
       "    </tr>\n",
       "    <tr>\n",
       "      <th>2</th>\n",
       "      <td>66.808876</td>\n",
       "    </tr>\n",
       "    <tr>\n",
       "      <th>3</th>\n",
       "      <td>67.637062</td>\n",
       "    </tr>\n",
       "    <tr>\n",
       "      <th>4</th>\n",
       "      <td>67.222336</td>\n",
       "    </tr>\n",
       "  </tbody>\n",
       "</table>\n",
       "</div>"
      ],
      "text/plain": [
       "   AAPL Adj Close\n",
       "0       67.687439\n",
       "1       67.869614\n",
       "2       66.808876\n",
       "3       67.637062\n",
       "4       67.222336"
      ]
     },
     "execution_count": 51,
     "metadata": {},
     "output_type": "execute_result"
    }
   ],
   "source": [
    "aapl.head()\n"
   ]
  },
  {
   "cell_type": "code",
   "execution_count": 52,
   "metadata": {},
   "outputs": [
    {
     "data": {
      "text/html": [
       "<div>\n",
       "<style>\n",
       "    .dataframe thead tr:only-child th {\n",
       "        text-align: right;\n",
       "    }\n",
       "\n",
       "    .dataframe thead th {\n",
       "        text-align: left;\n",
       "    }\n",
       "\n",
       "    .dataframe tbody tr th {\n",
       "        vertical-align: top;\n",
       "    }\n",
       "</style>\n",
       "<table border=\"1\" class=\"dataframe\">\n",
       "  <thead>\n",
       "    <tr style=\"text-align: right;\">\n",
       "      <th></th>\n",
       "      <th>SMH Adj Close</th>\n",
       "    </tr>\n",
       "  </thead>\n",
       "  <tbody>\n",
       "    <tr>\n",
       "      <th>0</th>\n",
       "      <td>31.319054</td>\n",
       "    </tr>\n",
       "    <tr>\n",
       "      <th>1</th>\n",
       "      <td>31.007280</td>\n",
       "    </tr>\n",
       "    <tr>\n",
       "      <th>2</th>\n",
       "      <td>30.638823</td>\n",
       "    </tr>\n",
       "    <tr>\n",
       "      <th>3</th>\n",
       "      <td>31.867022</td>\n",
       "    </tr>\n",
       "    <tr>\n",
       "      <th>4</th>\n",
       "      <td>32.018181</td>\n",
       "    </tr>\n",
       "  </tbody>\n",
       "</table>\n",
       "</div>"
      ],
      "text/plain": [
       "   SMH Adj Close\n",
       "0      31.319054\n",
       "1      31.007280\n",
       "2      30.638823\n",
       "3      31.867022\n",
       "4      32.018181"
      ]
     },
     "execution_count": 52,
     "metadata": {},
     "output_type": "execute_result"
    }
   ],
   "source": [
    "smh.head()"
   ]
  },
  {
   "cell_type": "code",
   "execution_count": 53,
   "metadata": {},
   "outputs": [
    {
     "data": {
      "text/html": [
       "<div>\n",
       "<style>\n",
       "    .dataframe thead tr:only-child th {\n",
       "        text-align: right;\n",
       "    }\n",
       "\n",
       "    .dataframe thead th {\n",
       "        text-align: left;\n",
       "    }\n",
       "\n",
       "    .dataframe tbody tr th {\n",
       "        vertical-align: top;\n",
       "    }\n",
       "</style>\n",
       "<table border=\"1\" class=\"dataframe\">\n",
       "  <thead>\n",
       "    <tr style=\"text-align: right;\">\n",
       "      <th></th>\n",
       "      <th>AAPL Adj Close</th>\n",
       "    </tr>\n",
       "  </thead>\n",
       "  <tbody>\n",
       "    <tr>\n",
       "      <th>1255</th>\n",
       "      <td>169.229996</td>\n",
       "    </tr>\n",
       "    <tr>\n",
       "      <th>1256</th>\n",
       "      <td>172.259995</td>\n",
       "    </tr>\n",
       "    <tr>\n",
       "      <th>1257</th>\n",
       "      <td>172.229996</td>\n",
       "    </tr>\n",
       "    <tr>\n",
       "      <th>1258</th>\n",
       "      <td>173.029999</td>\n",
       "    </tr>\n",
       "    <tr>\n",
       "      <th>1259</th>\n",
       "      <td>175.000000</td>\n",
       "    </tr>\n",
       "  </tbody>\n",
       "</table>\n",
       "</div>"
      ],
      "text/plain": [
       "      AAPL Adj Close\n",
       "1255      169.229996\n",
       "1256      172.259995\n",
       "1257      172.229996\n",
       "1258      173.029999\n",
       "1259      175.000000"
      ]
     },
     "execution_count": 53,
     "metadata": {},
     "output_type": "execute_result"
    }
   ],
   "source": [
    "aapl.tail()"
   ]
  },
  {
   "cell_type": "code",
   "execution_count": 54,
   "metadata": {},
   "outputs": [
    {
     "data": {
      "text/html": [
       "<div>\n",
       "<style>\n",
       "    .dataframe thead tr:only-child th {\n",
       "        text-align: right;\n",
       "    }\n",
       "\n",
       "    .dataframe thead th {\n",
       "        text-align: left;\n",
       "    }\n",
       "\n",
       "    .dataframe tbody tr th {\n",
       "        vertical-align: top;\n",
       "    }\n",
       "</style>\n",
       "<table border=\"1\" class=\"dataframe\">\n",
       "  <thead>\n",
       "    <tr style=\"text-align: right;\">\n",
       "      <th></th>\n",
       "      <th>SMH Adj Close</th>\n",
       "    </tr>\n",
       "  </thead>\n",
       "  <tbody>\n",
       "    <tr>\n",
       "      <th>1255</th>\n",
       "      <td>97.809998</td>\n",
       "    </tr>\n",
       "    <tr>\n",
       "      <th>1256</th>\n",
       "      <td>100.370003</td>\n",
       "    </tr>\n",
       "    <tr>\n",
       "      <th>1257</th>\n",
       "      <td>101.790001</td>\n",
       "    </tr>\n",
       "    <tr>\n",
       "      <th>1258</th>\n",
       "      <td>102.309998</td>\n",
       "    </tr>\n",
       "    <tr>\n",
       "      <th>1259</th>\n",
       "      <td>102.970001</td>\n",
       "    </tr>\n",
       "  </tbody>\n",
       "</table>\n",
       "</div>"
      ],
      "text/plain": [
       "      SMH Adj Close\n",
       "1255      97.809998\n",
       "1256     100.370003\n",
       "1257     101.790001\n",
       "1258     102.309998\n",
       "1259     102.970001"
      ]
     },
     "execution_count": 54,
     "metadata": {},
     "output_type": "execute_result"
    }
   ],
   "source": [
    "smh.tail()"
   ]
  },
  {
   "cell_type": "code",
   "execution_count": 55,
   "metadata": {},
   "outputs": [],
   "source": [
    "avgo_enhanced = pd.concat([avgo,aapl,smh], axis = 1, join='inner')\n",
    "#del avgo_enhanced['index']"
   ]
  },
  {
   "cell_type": "code",
   "execution_count": 56,
   "metadata": {},
   "outputs": [
    {
     "data": {
      "text/html": [
       "<div>\n",
       "<style>\n",
       "    .dataframe thead tr:only-child th {\n",
       "        text-align: right;\n",
       "    }\n",
       "\n",
       "    .dataframe thead th {\n",
       "        text-align: left;\n",
       "    }\n",
       "\n",
       "    .dataframe tbody tr th {\n",
       "        vertical-align: top;\n",
       "    }\n",
       "</style>\n",
       "<table border=\"1\" class=\"dataframe\">\n",
       "  <thead>\n",
       "    <tr style=\"text-align: right;\">\n",
       "      <th></th>\n",
       "      <th>Date</th>\n",
       "      <th>Open</th>\n",
       "      <th>High</th>\n",
       "      <th>Low</th>\n",
       "      <th>Close</th>\n",
       "      <th>Adj Close</th>\n",
       "      <th>Volume</th>\n",
       "      <th>High - Low</th>\n",
       "      <th>Day 1</th>\n",
       "      <th>AAPL Adj Close</th>\n",
       "      <th>SMH Adj Close</th>\n",
       "    </tr>\n",
       "  </thead>\n",
       "  <tbody>\n",
       "    <tr>\n",
       "      <th>0</th>\n",
       "      <td>2013-01-07</td>\n",
       "      <td>32.369999</td>\n",
       "      <td>32.490002</td>\n",
       "      <td>32.099998</td>\n",
       "      <td>32.320000</td>\n",
       "      <td>29.718203</td>\n",
       "      <td>1682200</td>\n",
       "      <td>0.390004</td>\n",
       "      <td>29.515913</td>\n",
       "      <td>67.687439</td>\n",
       "      <td>31.319054</td>\n",
       "    </tr>\n",
       "    <tr>\n",
       "      <th>1</th>\n",
       "      <td>2013-01-08</td>\n",
       "      <td>32.450001</td>\n",
       "      <td>32.700001</td>\n",
       "      <td>32.090000</td>\n",
       "      <td>32.099998</td>\n",
       "      <td>29.515913</td>\n",
       "      <td>2096900</td>\n",
       "      <td>0.610001</td>\n",
       "      <td>30.168762</td>\n",
       "      <td>67.869614</td>\n",
       "      <td>31.007280</td>\n",
       "    </tr>\n",
       "    <tr>\n",
       "      <th>2</th>\n",
       "      <td>2013-01-09</td>\n",
       "      <td>32.500000</td>\n",
       "      <td>32.959999</td>\n",
       "      <td>32.360001</td>\n",
       "      <td>32.810001</td>\n",
       "      <td>30.168762</td>\n",
       "      <td>2945600</td>\n",
       "      <td>0.599998</td>\n",
       "      <td>30.821594</td>\n",
       "      <td>66.808876</td>\n",
       "      <td>30.638823</td>\n",
       "    </tr>\n",
       "    <tr>\n",
       "      <th>3</th>\n",
       "      <td>2013-01-10</td>\n",
       "      <td>33.459999</td>\n",
       "      <td>33.590000</td>\n",
       "      <td>33.020000</td>\n",
       "      <td>33.520000</td>\n",
       "      <td>30.821594</td>\n",
       "      <td>4459100</td>\n",
       "      <td>0.570000</td>\n",
       "      <td>31.575594</td>\n",
       "      <td>67.637062</td>\n",
       "      <td>31.867022</td>\n",
       "    </tr>\n",
       "    <tr>\n",
       "      <th>4</th>\n",
       "      <td>2013-01-11</td>\n",
       "      <td>33.540001</td>\n",
       "      <td>34.369999</td>\n",
       "      <td>33.490002</td>\n",
       "      <td>34.340000</td>\n",
       "      <td>31.575594</td>\n",
       "      <td>4787100</td>\n",
       "      <td>0.879997</td>\n",
       "      <td>31.787071</td>\n",
       "      <td>67.222336</td>\n",
       "      <td>32.018181</td>\n",
       "    </tr>\n",
       "  </tbody>\n",
       "</table>\n",
       "</div>"
      ],
      "text/plain": [
       "         Date       Open       High        Low      Close  Adj Close   Volume  \\\n",
       "0  2013-01-07  32.369999  32.490002  32.099998  32.320000  29.718203  1682200   \n",
       "1  2013-01-08  32.450001  32.700001  32.090000  32.099998  29.515913  2096900   \n",
       "2  2013-01-09  32.500000  32.959999  32.360001  32.810001  30.168762  2945600   \n",
       "3  2013-01-10  33.459999  33.590000  33.020000  33.520000  30.821594  4459100   \n",
       "4  2013-01-11  33.540001  34.369999  33.490002  34.340000  31.575594  4787100   \n",
       "\n",
       "   High - Low      Day 1  AAPL Adj Close  SMH Adj Close  \n",
       "0    0.390004  29.515913       67.687439      31.319054  \n",
       "1    0.610001  30.168762       67.869614      31.007280  \n",
       "2    0.599998  30.821594       66.808876      30.638823  \n",
       "3    0.570000  31.575594       67.637062      31.867022  \n",
       "4    0.879997  31.787071       67.222336      32.018181  "
      ]
     },
     "execution_count": 56,
     "metadata": {},
     "output_type": "execute_result"
    }
   ],
   "source": [
    "avgo_enhanced.head()\n"
   ]
  },
  {
   "cell_type": "code",
   "execution_count": 57,
   "metadata": {},
   "outputs": [],
   "source": [
    "X = avgo_enhanced[['Open','Volume','Adj Close', 'High', 'SMH Adj Close', 'AAPL Adj Close']].as_matrix()"
   ]
  },
  {
   "cell_type": "code",
   "execution_count": 58,
   "metadata": {
    "collapsed": true
   },
   "outputs": [],
   "source": [
    "y = avgo_enhanced['Day 1'].values"
   ]
  },
  {
   "cell_type": "code",
   "execution_count": 59,
   "metadata": {
    "collapsed": true
   },
   "outputs": [],
   "source": [
    "X_train, y_train, X_test, y_test = split_data(X, y, 0, 1258)"
   ]
  },
  {
   "cell_type": "code",
   "execution_count": 60,
   "metadata": {},
   "outputs": [
    {
     "data": {
      "text/plain": [
       "DecisionTreeRegressor(criterion='mse', max_depth=None, max_features='auto',\n",
       "           max_leaf_nodes=None, min_impurity_decrease=0.0,\n",
       "           min_impurity_split=None, min_samples_leaf=1,\n",
       "           min_samples_split=2, min_weight_fraction_leaf=0.0,\n",
       "           presort=False, random_state=None, splitter='best')"
      ]
     },
     "execution_count": 60,
     "metadata": {},
     "output_type": "execute_result"
    }
   ],
   "source": [
    "# Do Time Series Split\n",
    "tscv = TimeSeriesSplit(n_splits = 10)\n",
    "tscv.split(X_train,y_train)\n",
    "\n",
    "# Create a decision tree regressor object\n",
    "regr = DecisionTreeRegressor()\n",
    "\n",
    "# Params to Search\n",
    "params = {'max_features':['auto']}\n",
    "\n",
    "# Peform Grid Search\n",
    "grid = GridSearchCV(regr, params, cv=tscv)\n",
    "\n",
    "# Fit The Data\n",
    "grid = grid.fit(X_train,y_train)\n",
    "\n",
    "# Find Optimal Model\n",
    "grid.best_estimator_"
   ]
  },
  {
   "cell_type": "code",
   "execution_count": 61,
   "metadata": {},
   "outputs": [
    {
     "name": "stdout",
     "output_type": "stream",
     "text": [
      "[ 280.520355] [ 271.619995]\n",
      "Root Mean squared error: 8.90\n"
     ]
    }
   ],
   "source": [
    "model = grid.best_estimator_\n",
    "y_pred = model.predict(X_test)\n",
    "print(y_pred, y_test)\n",
    "print(\"Root Mean squared error: %.2f\"\n",
    "      % sqrt(mean_squared_error(y_test, y_pred)))"
   ]
  },
  {
   "cell_type": "code",
   "execution_count": 62,
   "metadata": {},
   "outputs": [
    {
     "data": {
      "text/plain": [
       "KNeighborsRegressor(algorithm='auto', leaf_size=30, metric='minkowski',\n",
       "          metric_params=None, n_jobs=1, n_neighbors=2, p=2,\n",
       "          weights='uniform')"
      ]
     },
     "execution_count": 62,
     "metadata": {},
     "output_type": "execute_result"
    }
   ],
   "source": [
    "# Do Time Series Split\n",
    "tscv = TimeSeriesSplit(n_splits = 10)\n",
    "tscv.split(X_train,y_train)\n",
    "\n",
    "# Create a Random Forest regressor object\n",
    "regr = KNeighborsRegressor()\n",
    "\n",
    "# Create a dictionary for the parameter 'max_depth' with a range from 1 to 100\n",
    "params = {'n_neighbors':range(1,3)}\n",
    "\n",
    "# Peform Grid Searcht\n",
    "grid = GridSearchCV(regr, params, cv=tscv)\n",
    "\n",
    "# Fit The Dat\n",
    "grid = grid.fit(X_train,y_train)\n",
    "\n",
    "# Find Optimal Model\n",
    "grid.best_estimator_"
   ]
  },
  {
   "cell_type": "code",
   "execution_count": 63,
   "metadata": {},
   "outputs": [
    {
     "name": "stdout",
     "output_type": "stream",
     "text": [
      "[ 118.882755] [ 271.619995]\n",
      "Root Mean squared error: 152.74\n"
     ]
    }
   ],
   "source": [
    "model = grid.best_estimator_\n",
    "y_pred = model.predict(X_test)\n",
    "print(y_pred, y_test)\n",
    "print(\"Root Mean squared error: %.2f\"\n",
    "      % sqrt(mean_squared_error(y_test, y_pred)))"
   ]
  },
  {
   "cell_type": "code",
   "execution_count": 64,
   "metadata": {},
   "outputs": [
    {
     "data": {
      "text/plain": [
       "SGDRegressor(alpha=0.1, average=False, epsilon=0.1, eta0=0.01,\n",
       "       fit_intercept=True, l1_ratio=0.15, learning_rate='invscaling',\n",
       "       loss='huber', max_iter=100, n_iter=None, penalty='none',\n",
       "       power_t=0.25, random_state=None, shuffle=True, tol=None, verbose=0,\n",
       "       warm_start=False)"
      ]
     },
     "execution_count": 64,
     "metadata": {},
     "output_type": "execute_result"
    }
   ],
   "source": [
    "# Do Time Series Split\n",
    "tscv = TimeSeriesSplit(n_splits = 10)\n",
    "tscv.split(X_train,y_train)\n",
    "\n",
    "# Create a Random Forest regressor object\n",
    "regr = linear_model.SGDRegressor(max_iter = 100)\n",
    "# Create a dictionary for the parameter 'max_depth' with a range from 1 to 100\n",
    "params = {'loss':['squared_loss','huber'],'penalty':['none','l2','l1'],'alpha':[.0001,.001,.01,.1]}\n",
    "\n",
    "# Peform Grid Searcht\n",
    "grid = GridSearchCV(regr, params, cv=tscv)\n",
    "\n",
    "# Fit The Dat\n",
    "grid = grid.fit(X_train,y_train)\n",
    "\n",
    "# Find Optimal Model\n",
    "grid.best_estimator_"
   ]
  },
  {
   "cell_type": "code",
   "execution_count": 65,
   "metadata": {},
   "outputs": [
    {
     "name": "stdout",
     "output_type": "stream",
     "text": [
      "[ -6.41691361e+08] [ 271.619995]\n",
      "Root Mean squared error: 641691632.69\n"
     ]
    }
   ],
   "source": [
    "model = grid.best_estimator_\n",
    "y_pred = model.predict(X_test)\n",
    "print(y_pred, y_test)\n",
    "print(\"Root Mean squared error: %.2f\"\n",
    "      % sqrt(mean_squared_error(y_test, y_pred)))"
   ]
  },
  {
   "cell_type": "code",
   "execution_count": 70,
   "metadata": {},
   "outputs": [],
   "source": [
    "def rfr(X, y):\n",
    "    # Do Time Series Split\n",
    "    tscv = TimeSeriesSplit(n_splits = 10)\n",
    "    tscv.split(X_train,y_train)\n",
    "    \n",
    "    # Create a Random Forest regressor object\n",
    "    regr = RandomForestRegressor(n_estimators = 20)\n",
    "\n",
    "    # Create a dictionary for the parameter 'max_depth' with a range from 1 to 100\n",
    "    params = {'min_samples_leaf':range(1,10)}\n",
    "\n",
    "    # Peform Grid Searcht\n",
    "    grid = GridSearchCV(regr, params, cv=tscv)\n",
    "\n",
    "    # Fit The Dat\n",
    "    grid = grid.fit(X_train,y_train)\n",
    "\n",
    "    # Find Optimal Model\n",
    "    return grid.best_estimator_"
   ]
  },
  {
   "cell_type": "code",
   "execution_count": 127,
   "metadata": {},
   "outputs": [
    {
     "name": "stdout",
     "output_type": "stream",
     "text": [
      "[ 271.65772154] [ 271.619995]\n",
      "Root Mean squared error: 0.04\n",
      "Pred Actual on Day 0 [ 271.619995] [ 271.65772154]\n",
      "Pred Actual on Day 1 [ 270.019989] [ 268.67600423]\n",
      "Pred Actual on Day 2 [ 269.929993] [ 267.57004677]\n",
      "Pred Actual on Day 3 [ 267.01001] [ 263.39904164]\n",
      "Pred Actual on Day 4 [ 256.899994] [ 258.5849729]\n",
      "Pred Actual on Day 5 [ 260.420013] [ 259.0190531]\n",
      "Pred Actual on Day 6 [ 259.119995] [ 259.34052935]\n",
      "Pred Actual on Day 7 [ 258.100006] [ 259.94429209]\n",
      "Pred Actual on Day 8 [ 262.350006] [ 261.84303803]\n",
      "Pred Actual on Day 9 [ 261.529999] [ 263.42275287]\n",
      "Pred Actual on Day 10 [ 265.640015] [ 265.00106145]\n",
      "0.5215664706308911\n"
     ]
    }
   ],
   "source": [
    "random.seed(15345)\n",
    "X_train, y_train, X_test, y_test = split_data(X, y, 0, 1258)\n",
    "model = rfr(X_train, y_train)\n",
    "\n",
    "y_pred = model.predict(X_test)\n",
    "print(y_pred, y_test)\n",
    "print(\"Root Mean squared error: %.2f\"\n",
    "      % sqrt(mean_squared_error(y_test, y_pred)))"
   ]
  },
  {
   "cell_type": "code",
   "execution_count": 130,
   "metadata": {},
   "outputs": [
    {
     "name": "stdout",
     "output_type": "stream",
     "text": [
      "Predicted and Actual Price on Day - 0 [ 271.619995] [ 271.65772154]\n",
      "Predicted and Actual Price on Day - 1 [ 270.019989] [ 268.67600423]\n",
      "Predicted and Actual Price on Day - 2 [ 269.929993] [ 267.57004677]\n",
      "Predicted and Actual Price on Day - 3 [ 267.01001] [ 263.39904164]\n",
      "Predicted and Actual Price on Day - 4 [ 256.899994] [ 258.5849729]\n",
      "Predicted and Actual Price on Day - 5 [ 260.420013] [ 259.0190531]\n",
      "Predicted and Actual Price on Day - 6 [ 259.119995] [ 259.34052935]\n",
      "Predicted and Actual Price on Day - 7 [ 258.100006] [ 259.94429209]\n",
      "Predicted and Actual Price on Day - 8 [ 262.350006] [ 261.84303803]\n",
      "Predicted and Actual Price on Day - 9 [ 261.529999] [ 263.42275287]\n",
      "Predicted and Actual Price on Day - 10 [ 265.640015] [ 265.00106145]\n",
      "Predicted and Actual Price on Day - 11 [ 263.700012] [ 263.83816599]\n",
      "Predicted and Actual Price on Day - 12 [ 264.390015] [ 263.36272381]\n",
      "Predicted and Actual Price on Day - 13 [ 263.980011] [ 262.73100417]\n",
      "Predicted and Actual Price on Day - 14 [ 257.63208] [ 259.99496985]\n",
      "Predicted and Actual Price on Day - 15 [ 260.304352] [ 260.96264526]\n",
      "Predicted and Actual Price on Day - 16 [ 256.996307] [ 258.46563625]\n",
      "Predicted and Actual Price on Day - 17 [ 258.238068] [ 260.34994137]\n",
      "Predicted and Actual Price on Day - 18 [ 258.198334] [ 259.67081731]\n",
      "Predicted and Actual Price on Day - 19 [ 262.15213] [ 262.35546167]\n",
      "0.3549483775531691\n"
     ]
    }
   ],
   "source": [
    "diff = 0\n",
    "\n",
    "for i in range(20):\n",
    "    X_train, y_train, X_test, y_test = split_data(X, y, 0, 1258-i)\n",
    "    y_pred = model.predict(X_test)\n",
    "    diff += pow((y_test - y_pred), 2)\n",
    "    print(\"Predicted and Actual Price on Day - %d\" %i, y_test, y_pred)\n",
    "\n",
    "print(sqrt(diff)/20)"
   ]
  },
  {
   "cell_type": "code",
   "execution_count": null,
   "metadata": {
    "collapsed": true
   },
   "outputs": [],
   "source": []
  }
 ],
 "metadata": {
  "anaconda-cloud": {},
  "kernelspec": {
   "display_name": "Python 3",
   "language": "python",
   "name": "python3"
  },
  "language_info": {
   "codemirror_mode": {
    "name": "ipython",
    "version": 3
   },
   "file_extension": ".py",
   "mimetype": "text/x-python",
   "name": "python",
   "nbconvert_exporter": "python",
   "pygments_lexer": "ipython3",
   "version": "3.6.3"
  }
 },
 "nbformat": 4,
 "nbformat_minor": 1
}
