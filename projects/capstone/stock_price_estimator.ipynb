{
 "cells": [
  {
   "cell_type": "markdown",
   "metadata": {},
   "source": [
    "# Machine Learning Nanodegree\n",
    "\n",
    "\n",
    "## Project: **Stock Price Estimator** \n",
    "***\n",
    "In this project proposal I intend to leverage an ipython notebook for initial exploratory analysis.\n",
    "\n",
    "---\n"
   ]
  },
  {
   "cell_type": "markdown",
   "metadata": {},
   "source": [
    "## Import Packages"
   ]
  },
  {
   "cell_type": "code",
   "execution_count": 2,
   "metadata": {
    "collapsed": true
   },
   "outputs": [],
   "source": [
    "#importing some useful packages\n",
    "import matplotlib.pyplot as plt\n",
    "import matplotlib.image as mpimg\n",
    "import numpy as np\n",
    "import pandas as pd\n",
    "import cv2\n",
    "\n",
    "%matplotlib inline"
   ]
  },
  {
   "cell_type": "markdown",
   "metadata": {},
   "source": [
    "## Read in the Broadcom(AVGO) csv\n",
    "\n",
    "The spreadhseet was downloaded from Yahoo Finance. It is also part of the capstone project repository"
   ]
  },
  {
   "cell_type": "code",
   "execution_count": 3,
   "metadata": {},
   "outputs": [],
   "source": [
    "df = pd.read_csv('./AVGO.csv')"
   ]
  },
  {
   "cell_type": "markdown",
   "metadata": {},
   "source": [
    "## Output Some Information from the DataFrame"
   ]
  },
  {
   "cell_type": "code",
   "execution_count": 4,
   "metadata": {},
   "outputs": [
    {
     "data": {
      "text/html": [
       "<div>\n",
       "<style>\n",
       "    .dataframe thead tr:only-child th {\n",
       "        text-align: right;\n",
       "    }\n",
       "\n",
       "    .dataframe thead th {\n",
       "        text-align: left;\n",
       "    }\n",
       "\n",
       "    .dataframe tbody tr th {\n",
       "        vertical-align: top;\n",
       "    }\n",
       "</style>\n",
       "<table border=\"1\" class=\"dataframe\">\n",
       "  <thead>\n",
       "    <tr style=\"text-align: right;\">\n",
       "      <th></th>\n",
       "      <th>Date</th>\n",
       "      <th>Open</th>\n",
       "      <th>High</th>\n",
       "      <th>Low</th>\n",
       "      <th>Close</th>\n",
       "      <th>Adj Close</th>\n",
       "      <th>Volume</th>\n",
       "    </tr>\n",
       "  </thead>\n",
       "  <tbody>\n",
       "    <tr>\n",
       "      <th>0</th>\n",
       "      <td>2016-12-29</td>\n",
       "      <td>179.699997</td>\n",
       "      <td>180.669998</td>\n",
       "      <td>178.630005</td>\n",
       "      <td>179.869995</td>\n",
       "      <td>176.403351</td>\n",
       "      <td>1367100</td>\n",
       "    </tr>\n",
       "    <tr>\n",
       "      <th>1</th>\n",
       "      <td>2016-12-30</td>\n",
       "      <td>180.369995</td>\n",
       "      <td>180.899994</td>\n",
       "      <td>176.020004</td>\n",
       "      <td>176.770004</td>\n",
       "      <td>173.363113</td>\n",
       "      <td>2542100</td>\n",
       "    </tr>\n",
       "    <tr>\n",
       "      <th>2</th>\n",
       "      <td>2017-01-03</td>\n",
       "      <td>178.289993</td>\n",
       "      <td>180.899994</td>\n",
       "      <td>176.539993</td>\n",
       "      <td>178.339996</td>\n",
       "      <td>174.902847</td>\n",
       "      <td>3209800</td>\n",
       "    </tr>\n",
       "    <tr>\n",
       "      <th>3</th>\n",
       "      <td>2017-01-04</td>\n",
       "      <td>178.259995</td>\n",
       "      <td>179.000000</td>\n",
       "      <td>176.679993</td>\n",
       "      <td>177.070007</td>\n",
       "      <td>173.657318</td>\n",
       "      <td>2396500</td>\n",
       "    </tr>\n",
       "    <tr>\n",
       "      <th>4</th>\n",
       "      <td>2017-01-05</td>\n",
       "      <td>176.330002</td>\n",
       "      <td>177.000000</td>\n",
       "      <td>173.880005</td>\n",
       "      <td>174.279999</td>\n",
       "      <td>170.921097</td>\n",
       "      <td>2486100</td>\n",
       "    </tr>\n",
       "    <tr>\n",
       "      <th>5</th>\n",
       "      <td>2017-01-06</td>\n",
       "      <td>174.210007</td>\n",
       "      <td>176.899994</td>\n",
       "      <td>173.309998</td>\n",
       "      <td>176.589996</td>\n",
       "      <td>173.186569</td>\n",
       "      <td>2314200</td>\n",
       "    </tr>\n",
       "    <tr>\n",
       "      <th>6</th>\n",
       "      <td>2017-01-09</td>\n",
       "      <td>176.649994</td>\n",
       "      <td>178.300003</td>\n",
       "      <td>176.639999</td>\n",
       "      <td>176.970001</td>\n",
       "      <td>173.559265</td>\n",
       "      <td>2026500</td>\n",
       "    </tr>\n",
       "    <tr>\n",
       "      <th>7</th>\n",
       "      <td>2017-01-10</td>\n",
       "      <td>177.490005</td>\n",
       "      <td>180.740005</td>\n",
       "      <td>176.899994</td>\n",
       "      <td>180.570007</td>\n",
       "      <td>177.089890</td>\n",
       "      <td>3018100</td>\n",
       "    </tr>\n",
       "  </tbody>\n",
       "</table>\n",
       "</div>"
      ],
      "text/plain": [
       "         Date        Open        High         Low       Close   Adj Close  \\\n",
       "0  2016-12-29  179.699997  180.669998  178.630005  179.869995  176.403351   \n",
       "1  2016-12-30  180.369995  180.899994  176.020004  176.770004  173.363113   \n",
       "2  2017-01-03  178.289993  180.899994  176.539993  178.339996  174.902847   \n",
       "3  2017-01-04  178.259995  179.000000  176.679993  177.070007  173.657318   \n",
       "4  2017-01-05  176.330002  177.000000  173.880005  174.279999  170.921097   \n",
       "5  2017-01-06  174.210007  176.899994  173.309998  176.589996  173.186569   \n",
       "6  2017-01-09  176.649994  178.300003  176.639999  176.970001  173.559265   \n",
       "7  2017-01-10  177.490005  180.740005  176.899994  180.570007  177.089890   \n",
       "\n",
       "    Volume  \n",
       "0  1367100  \n",
       "1  2542100  \n",
       "2  3209800  \n",
       "3  2396500  \n",
       "4  2486100  \n",
       "5  2314200  \n",
       "6  2026500  \n",
       "7  3018100  "
      ]
     },
     "execution_count": 4,
     "metadata": {},
     "output_type": "execute_result"
    }
   ],
   "source": [
    "df.head(8)"
   ]
  },
  {
   "cell_type": "markdown",
   "metadata": {},
   "source": [
    "## Reverse all Rows\n",
    "\n",
    "There is a need to reverse all the rows since the date increases and does not decrease."
   ]
  },
  {
   "cell_type": "code",
   "execution_count": 5,
   "metadata": {
    "collapsed": true
   },
   "outputs": [],
   "source": [
    "df = df.iloc[::-1]"
   ]
  },
  {
   "cell_type": "code",
   "execution_count": 6,
   "metadata": {},
   "outputs": [
    {
     "data": {
      "text/html": [
       "<div>\n",
       "<style>\n",
       "    .dataframe thead tr:only-child th {\n",
       "        text-align: right;\n",
       "    }\n",
       "\n",
       "    .dataframe thead th {\n",
       "        text-align: left;\n",
       "    }\n",
       "\n",
       "    .dataframe tbody tr th {\n",
       "        vertical-align: top;\n",
       "    }\n",
       "</style>\n",
       "<table border=\"1\" class=\"dataframe\">\n",
       "  <thead>\n",
       "    <tr style=\"text-align: right;\">\n",
       "      <th></th>\n",
       "      <th>Date</th>\n",
       "      <th>Open</th>\n",
       "      <th>High</th>\n",
       "      <th>Low</th>\n",
       "      <th>Close</th>\n",
       "      <th>Adj Close</th>\n",
       "      <th>Volume</th>\n",
       "    </tr>\n",
       "  </thead>\n",
       "  <tbody>\n",
       "    <tr>\n",
       "      <th>251</th>\n",
       "      <td>2017-12-28</td>\n",
       "      <td>260.160004</td>\n",
       "      <td>260.799988</td>\n",
       "      <td>258.549988</td>\n",
       "      <td>260.420013</td>\n",
       "      <td>260.420013</td>\n",
       "      <td>1364100</td>\n",
       "    </tr>\n",
       "    <tr>\n",
       "      <th>250</th>\n",
       "      <td>2017-12-27</td>\n",
       "      <td>258.839996</td>\n",
       "      <td>261.609985</td>\n",
       "      <td>258.500000</td>\n",
       "      <td>259.119995</td>\n",
       "      <td>259.119995</td>\n",
       "      <td>3561500</td>\n",
       "    </tr>\n",
       "    <tr>\n",
       "      <th>249</th>\n",
       "      <td>2017-12-26</td>\n",
       "      <td>257.230011</td>\n",
       "      <td>262.350006</td>\n",
       "      <td>253.389999</td>\n",
       "      <td>258.100006</td>\n",
       "      <td>258.100006</td>\n",
       "      <td>2225600</td>\n",
       "    </tr>\n",
       "    <tr>\n",
       "      <th>248</th>\n",
       "      <td>2017-12-22</td>\n",
       "      <td>261.820007</td>\n",
       "      <td>263.369995</td>\n",
       "      <td>258.700012</td>\n",
       "      <td>262.350006</td>\n",
       "      <td>262.350006</td>\n",
       "      <td>1461700</td>\n",
       "    </tr>\n",
       "    <tr>\n",
       "      <th>247</th>\n",
       "      <td>2017-12-21</td>\n",
       "      <td>265.950012</td>\n",
       "      <td>266.250000</td>\n",
       "      <td>261.070007</td>\n",
       "      <td>261.529999</td>\n",
       "      <td>261.529999</td>\n",
       "      <td>1775800</td>\n",
       "    </tr>\n",
       "  </tbody>\n",
       "</table>\n",
       "</div>"
      ],
      "text/plain": [
       "           Date        Open        High         Low       Close   Adj Close  \\\n",
       "251  2017-12-28  260.160004  260.799988  258.549988  260.420013  260.420013   \n",
       "250  2017-12-27  258.839996  261.609985  258.500000  259.119995  259.119995   \n",
       "249  2017-12-26  257.230011  262.350006  253.389999  258.100006  258.100006   \n",
       "248  2017-12-22  261.820007  263.369995  258.700012  262.350006  262.350006   \n",
       "247  2017-12-21  265.950012  266.250000  261.070007  261.529999  261.529999   \n",
       "\n",
       "      Volume  \n",
       "251  1364100  \n",
       "250  3561500  \n",
       "249  2225600  \n",
       "248  1461700  \n",
       "247  1775800  "
      ]
     },
     "execution_count": 6,
     "metadata": {},
     "output_type": "execute_result"
    }
   ],
   "source": [
    "df.head()"
   ]
  },
  {
   "cell_type": "code",
   "execution_count": 7,
   "metadata": {
    "collapsed": true
   },
   "outputs": [],
   "source": [
    "df = pd.DataFrame(data = df)\n",
    "df = df.reset_index()\n"
   ]
  },
  {
   "cell_type": "code",
   "execution_count": 8,
   "metadata": {
    "collapsed": true
   },
   "outputs": [],
   "source": [
    "del df['index']"
   ]
  },
  {
   "cell_type": "code",
   "execution_count": 9,
   "metadata": {},
   "outputs": [
    {
     "data": {
      "text/plain": [
       "0    260.160004\n",
       "1    258.839996\n",
       "2    257.230011\n",
       "3    261.820007\n",
       "4    265.950012\n",
       "5    266.140015\n",
       "6    263.299988\n",
       "Name: Open, dtype: float64"
      ]
     },
     "execution_count": 9,
     "metadata": {},
     "output_type": "execute_result"
    }
   ],
   "source": [
    "df['Open'][0:7]"
   ]
  },
  {
   "cell_type": "code",
   "execution_count": 10,
   "metadata": {},
   "outputs": [
    {
     "data": {
      "text/html": [
       "<div>\n",
       "<style>\n",
       "    .dataframe thead tr:only-child th {\n",
       "        text-align: right;\n",
       "    }\n",
       "\n",
       "    .dataframe thead th {\n",
       "        text-align: left;\n",
       "    }\n",
       "\n",
       "    .dataframe tbody tr th {\n",
       "        vertical-align: top;\n",
       "    }\n",
       "</style>\n",
       "<table border=\"1\" class=\"dataframe\">\n",
       "  <thead>\n",
       "    <tr style=\"text-align: right;\">\n",
       "      <th></th>\n",
       "      <th>Open</th>\n",
       "      <th>High</th>\n",
       "      <th>Low</th>\n",
       "      <th>Close</th>\n",
       "      <th>Adj Close</th>\n",
       "      <th>Volume</th>\n",
       "    </tr>\n",
       "  </thead>\n",
       "  <tbody>\n",
       "    <tr>\n",
       "      <th>count</th>\n",
       "      <td>252.000000</td>\n",
       "      <td>252.000000</td>\n",
       "      <td>252.000000</td>\n",
       "      <td>252.000000</td>\n",
       "      <td>252.000000</td>\n",
       "      <td>2.520000e+02</td>\n",
       "    </tr>\n",
       "    <tr>\n",
       "      <th>mean</th>\n",
       "      <td>235.887103</td>\n",
       "      <td>238.016785</td>\n",
       "      <td>233.202976</td>\n",
       "      <td>235.854842</td>\n",
       "      <td>233.100993</td>\n",
       "      <td>2.790617e+06</td>\n",
       "    </tr>\n",
       "    <tr>\n",
       "      <th>std</th>\n",
       "      <td>23.962485</td>\n",
       "      <td>24.298570</td>\n",
       "      <td>23.209570</td>\n",
       "      <td>23.758057</td>\n",
       "      <td>24.428293</td>\n",
       "      <td>1.462835e+06</td>\n",
       "    </tr>\n",
       "    <tr>\n",
       "      <th>min</th>\n",
       "      <td>174.210007</td>\n",
       "      <td>176.899994</td>\n",
       "      <td>173.309998</td>\n",
       "      <td>174.279999</td>\n",
       "      <td>170.921097</td>\n",
       "      <td>8.486000e+05</td>\n",
       "    </tr>\n",
       "    <tr>\n",
       "      <th>25%</th>\n",
       "      <td>218.945000</td>\n",
       "      <td>221.322506</td>\n",
       "      <td>217.730003</td>\n",
       "      <td>218.967502</td>\n",
       "      <td>215.674461</td>\n",
       "      <td>1.874200e+06</td>\n",
       "    </tr>\n",
       "    <tr>\n",
       "      <th>50%</th>\n",
       "      <td>241.324997</td>\n",
       "      <td>243.235001</td>\n",
       "      <td>238.714997</td>\n",
       "      <td>241.099998</td>\n",
       "      <td>238.841652</td>\n",
       "      <td>2.448900e+06</td>\n",
       "    </tr>\n",
       "    <tr>\n",
       "      <th>75%</th>\n",
       "      <td>251.845001</td>\n",
       "      <td>253.774994</td>\n",
       "      <td>248.672501</td>\n",
       "      <td>251.537502</td>\n",
       "      <td>248.703785</td>\n",
       "      <td>3.098500e+06</td>\n",
       "    </tr>\n",
       "    <tr>\n",
       "      <th>max</th>\n",
       "      <td>284.859985</td>\n",
       "      <td>285.679993</td>\n",
       "      <td>279.769989</td>\n",
       "      <td>284.619995</td>\n",
       "      <td>282.745575</td>\n",
       "      <td>1.205030e+07</td>\n",
       "    </tr>\n",
       "  </tbody>\n",
       "</table>\n",
       "</div>"
      ],
      "text/plain": [
       "             Open        High         Low       Close   Adj Close  \\\n",
       "count  252.000000  252.000000  252.000000  252.000000  252.000000   \n",
       "mean   235.887103  238.016785  233.202976  235.854842  233.100993   \n",
       "std     23.962485   24.298570   23.209570   23.758057   24.428293   \n",
       "min    174.210007  176.899994  173.309998  174.279999  170.921097   \n",
       "25%    218.945000  221.322506  217.730003  218.967502  215.674461   \n",
       "50%    241.324997  243.235001  238.714997  241.099998  238.841652   \n",
       "75%    251.845001  253.774994  248.672501  251.537502  248.703785   \n",
       "max    284.859985  285.679993  279.769989  284.619995  282.745575   \n",
       "\n",
       "             Volume  \n",
       "count  2.520000e+02  \n",
       "mean   2.790617e+06  \n",
       "std    1.462835e+06  \n",
       "min    8.486000e+05  \n",
       "25%    1.874200e+06  \n",
       "50%    2.448900e+06  \n",
       "75%    3.098500e+06  \n",
       "max    1.205030e+07  "
      ]
     },
     "execution_count": 10,
     "metadata": {},
     "output_type": "execute_result"
    }
   ],
   "source": [
    "#Have a look at some summary stats\n",
    "df.describe()"
   ]
  },
  {
   "cell_type": "code",
   "execution_count": 11,
   "metadata": {},
   "outputs": [
    {
     "data": {
      "text/html": [
       "<div>\n",
       "<style>\n",
       "    .dataframe thead tr:only-child th {\n",
       "        text-align: right;\n",
       "    }\n",
       "\n",
       "    .dataframe thead th {\n",
       "        text-align: left;\n",
       "    }\n",
       "\n",
       "    .dataframe tbody tr th {\n",
       "        vertical-align: top;\n",
       "    }\n",
       "</style>\n",
       "<table border=\"1\" class=\"dataframe\">\n",
       "  <thead>\n",
       "    <tr style=\"text-align: right;\">\n",
       "      <th></th>\n",
       "      <th>Date</th>\n",
       "      <th>Open</th>\n",
       "      <th>High</th>\n",
       "      <th>Low</th>\n",
       "      <th>Close</th>\n",
       "      <th>Adj Close</th>\n",
       "      <th>Volume</th>\n",
       "    </tr>\n",
       "  </thead>\n",
       "  <tbody>\n",
       "    <tr>\n",
       "      <th>0</th>\n",
       "      <td>2017-12-28</td>\n",
       "      <td>260.160004</td>\n",
       "      <td>260.799988</td>\n",
       "      <td>258.549988</td>\n",
       "      <td>260.420013</td>\n",
       "      <td>260.420013</td>\n",
       "      <td>1364100</td>\n",
       "    </tr>\n",
       "    <tr>\n",
       "      <th>1</th>\n",
       "      <td>2017-12-27</td>\n",
       "      <td>258.839996</td>\n",
       "      <td>261.609985</td>\n",
       "      <td>258.500000</td>\n",
       "      <td>259.119995</td>\n",
       "      <td>259.119995</td>\n",
       "      <td>3561500</td>\n",
       "    </tr>\n",
       "    <tr>\n",
       "      <th>2</th>\n",
       "      <td>2017-12-26</td>\n",
       "      <td>257.230011</td>\n",
       "      <td>262.350006</td>\n",
       "      <td>253.389999</td>\n",
       "      <td>258.100006</td>\n",
       "      <td>258.100006</td>\n",
       "      <td>2225600</td>\n",
       "    </tr>\n",
       "    <tr>\n",
       "      <th>3</th>\n",
       "      <td>2017-12-22</td>\n",
       "      <td>261.820007</td>\n",
       "      <td>263.369995</td>\n",
       "      <td>258.700012</td>\n",
       "      <td>262.350006</td>\n",
       "      <td>262.350006</td>\n",
       "      <td>1461700</td>\n",
       "    </tr>\n",
       "    <tr>\n",
       "      <th>4</th>\n",
       "      <td>2017-12-21</td>\n",
       "      <td>265.950012</td>\n",
       "      <td>266.250000</td>\n",
       "      <td>261.070007</td>\n",
       "      <td>261.529999</td>\n",
       "      <td>261.529999</td>\n",
       "      <td>1775800</td>\n",
       "    </tr>\n",
       "    <tr>\n",
       "      <th>5</th>\n",
       "      <td>2017-12-20</td>\n",
       "      <td>266.140015</td>\n",
       "      <td>266.350006</td>\n",
       "      <td>262.779999</td>\n",
       "      <td>265.640015</td>\n",
       "      <td>265.640015</td>\n",
       "      <td>1984500</td>\n",
       "    </tr>\n",
       "    <tr>\n",
       "      <th>6</th>\n",
       "      <td>2017-12-19</td>\n",
       "      <td>263.299988</td>\n",
       "      <td>265.290009</td>\n",
       "      <td>261.269989</td>\n",
       "      <td>263.700012</td>\n",
       "      <td>263.700012</td>\n",
       "      <td>1909400</td>\n",
       "    </tr>\n",
       "    <tr>\n",
       "      <th>7</th>\n",
       "      <td>2017-12-18</td>\n",
       "      <td>264.079987</td>\n",
       "      <td>266.510010</td>\n",
       "      <td>262.589996</td>\n",
       "      <td>264.390015</td>\n",
       "      <td>264.390015</td>\n",
       "      <td>2978600</td>\n",
       "    </tr>\n",
       "    <tr>\n",
       "      <th>8</th>\n",
       "      <td>2017-12-15</td>\n",
       "      <td>261.649994</td>\n",
       "      <td>266.000000</td>\n",
       "      <td>258.260010</td>\n",
       "      <td>265.730011</td>\n",
       "      <td>263.980011</td>\n",
       "      <td>4509100</td>\n",
       "    </tr>\n",
       "    <tr>\n",
       "      <th>9</th>\n",
       "      <td>2017-12-14</td>\n",
       "      <td>262.339996</td>\n",
       "      <td>263.000000</td>\n",
       "      <td>256.700012</td>\n",
       "      <td>259.339996</td>\n",
       "      <td>257.632080</td>\n",
       "      <td>3759500</td>\n",
       "    </tr>\n",
       "  </tbody>\n",
       "</table>\n",
       "</div>"
      ],
      "text/plain": [
       "         Date        Open        High         Low       Close   Adj Close  \\\n",
       "0  2017-12-28  260.160004  260.799988  258.549988  260.420013  260.420013   \n",
       "1  2017-12-27  258.839996  261.609985  258.500000  259.119995  259.119995   \n",
       "2  2017-12-26  257.230011  262.350006  253.389999  258.100006  258.100006   \n",
       "3  2017-12-22  261.820007  263.369995  258.700012  262.350006  262.350006   \n",
       "4  2017-12-21  265.950012  266.250000  261.070007  261.529999  261.529999   \n",
       "5  2017-12-20  266.140015  266.350006  262.779999  265.640015  265.640015   \n",
       "6  2017-12-19  263.299988  265.290009  261.269989  263.700012  263.700012   \n",
       "7  2017-12-18  264.079987  266.510010  262.589996  264.390015  264.390015   \n",
       "8  2017-12-15  261.649994  266.000000  258.260010  265.730011  263.980011   \n",
       "9  2017-12-14  262.339996  263.000000  256.700012  259.339996  257.632080   \n",
       "\n",
       "    Volume  \n",
       "0  1364100  \n",
       "1  3561500  \n",
       "2  2225600  \n",
       "3  1461700  \n",
       "4  1775800  \n",
       "5  1984500  \n",
       "6  1909400  \n",
       "7  2978600  \n",
       "8  4509100  \n",
       "9  3759500  "
      ]
     },
     "execution_count": 11,
     "metadata": {},
     "output_type": "execute_result"
    }
   ],
   "source": [
    "# This output should have the most recent dates on top\n",
    "df.head(10)"
   ]
  },
  {
   "cell_type": "code",
   "execution_count": 12,
   "metadata": {},
   "outputs": [
    {
     "data": {
      "text/plain": [
       "252"
      ]
     },
     "execution_count": 12,
     "metadata": {},
     "output_type": "execute_result"
    }
   ],
   "source": [
    "len(df['Open'])"
   ]
  },
  {
   "cell_type": "markdown",
   "metadata": {},
   "source": [
    "## Save first 1 day worth of data\n",
    "\n",
    "The First day's worth of data need to be saved. The current day will not be aware of the next day's Adjusted Closing Price. Infact this is something that we will need to predict. "
   ]
  },
  {
   "cell_type": "code",
   "execution_count": 13,
   "metadata": {
    "collapsed": true
   },
   "outputs": [],
   "source": [
    "avgo_first_day= df[0:1].copy(deep = True)"
   ]
  },
  {
   "cell_type": "code",
   "execution_count": 14,
   "metadata": {},
   "outputs": [
    {
     "data": {
      "text/html": [
       "<div>\n",
       "<style>\n",
       "    .dataframe thead tr:only-child th {\n",
       "        text-align: right;\n",
       "    }\n",
       "\n",
       "    .dataframe thead th {\n",
       "        text-align: left;\n",
       "    }\n",
       "\n",
       "    .dataframe tbody tr th {\n",
       "        vertical-align: top;\n",
       "    }\n",
       "</style>\n",
       "<table border=\"1\" class=\"dataframe\">\n",
       "  <thead>\n",
       "    <tr style=\"text-align: right;\">\n",
       "      <th></th>\n",
       "      <th>Date</th>\n",
       "      <th>Open</th>\n",
       "      <th>High</th>\n",
       "      <th>Low</th>\n",
       "      <th>Close</th>\n",
       "      <th>Adj Close</th>\n",
       "      <th>Volume</th>\n",
       "    </tr>\n",
       "  </thead>\n",
       "  <tbody>\n",
       "    <tr>\n",
       "      <th>0</th>\n",
       "      <td>2017-12-28</td>\n",
       "      <td>260.160004</td>\n",
       "      <td>260.799988</td>\n",
       "      <td>258.549988</td>\n",
       "      <td>260.420013</td>\n",
       "      <td>260.420013</td>\n",
       "      <td>1364100</td>\n",
       "    </tr>\n",
       "  </tbody>\n",
       "</table>\n",
       "</div>"
      ],
      "text/plain": [
       "         Date        Open        High         Low       Close   Adj Close  \\\n",
       "0  2017-12-28  260.160004  260.799988  258.549988  260.420013  260.420013   \n",
       "\n",
       "    Volume  \n",
       "0  1364100  "
      ]
     },
     "execution_count": 14,
     "metadata": {},
     "output_type": "execute_result"
    }
   ],
   "source": [
    "avgo_first_day"
   ]
  },
  {
   "cell_type": "markdown",
   "metadata": {},
   "source": [
    "## DataFrame with Remaining Data\n",
    "\n",
    "I have a new data frame with data from entry index 7 onwards."
   ]
  },
  {
   "cell_type": "code",
   "execution_count": 15,
   "metadata": {
    "collapsed": true
   },
   "outputs": [],
   "source": [
    "rem_data = df[1:].copy(deep=True)"
   ]
  },
  {
   "cell_type": "markdown",
   "metadata": {},
   "source": [
    "## Difference between High and Low Stock Price\n",
    "\n",
    "This may prove to be a useful metric in the project so have a new column"
   ]
  },
  {
   "cell_type": "code",
   "execution_count": 16,
   "metadata": {
    "collapsed": true
   },
   "outputs": [],
   "source": [
    "rem_data['High - Low'] = rem_data['High'] - rem_data['Low']"
   ]
  },
  {
   "cell_type": "code",
   "execution_count": 17,
   "metadata": {},
   "outputs": [
    {
     "data": {
      "text/html": [
       "<div>\n",
       "<style>\n",
       "    .dataframe thead tr:only-child th {\n",
       "        text-align: right;\n",
       "    }\n",
       "\n",
       "    .dataframe thead th {\n",
       "        text-align: left;\n",
       "    }\n",
       "\n",
       "    .dataframe tbody tr th {\n",
       "        vertical-align: top;\n",
       "    }\n",
       "</style>\n",
       "<table border=\"1\" class=\"dataframe\">\n",
       "  <thead>\n",
       "    <tr style=\"text-align: right;\">\n",
       "      <th></th>\n",
       "      <th>Date</th>\n",
       "      <th>Open</th>\n",
       "      <th>High</th>\n",
       "      <th>Low</th>\n",
       "      <th>Close</th>\n",
       "      <th>Adj Close</th>\n",
       "      <th>Volume</th>\n",
       "      <th>High - Low</th>\n",
       "    </tr>\n",
       "  </thead>\n",
       "  <tbody>\n",
       "    <tr>\n",
       "      <th>1</th>\n",
       "      <td>2017-12-27</td>\n",
       "      <td>258.839996</td>\n",
       "      <td>261.609985</td>\n",
       "      <td>258.500000</td>\n",
       "      <td>259.119995</td>\n",
       "      <td>259.119995</td>\n",
       "      <td>3561500</td>\n",
       "      <td>3.109985</td>\n",
       "    </tr>\n",
       "    <tr>\n",
       "      <th>2</th>\n",
       "      <td>2017-12-26</td>\n",
       "      <td>257.230011</td>\n",
       "      <td>262.350006</td>\n",
       "      <td>253.389999</td>\n",
       "      <td>258.100006</td>\n",
       "      <td>258.100006</td>\n",
       "      <td>2225600</td>\n",
       "      <td>8.960007</td>\n",
       "    </tr>\n",
       "    <tr>\n",
       "      <th>3</th>\n",
       "      <td>2017-12-22</td>\n",
       "      <td>261.820007</td>\n",
       "      <td>263.369995</td>\n",
       "      <td>258.700012</td>\n",
       "      <td>262.350006</td>\n",
       "      <td>262.350006</td>\n",
       "      <td>1461700</td>\n",
       "      <td>4.669983</td>\n",
       "    </tr>\n",
       "    <tr>\n",
       "      <th>4</th>\n",
       "      <td>2017-12-21</td>\n",
       "      <td>265.950012</td>\n",
       "      <td>266.250000</td>\n",
       "      <td>261.070007</td>\n",
       "      <td>261.529999</td>\n",
       "      <td>261.529999</td>\n",
       "      <td>1775800</td>\n",
       "      <td>5.179993</td>\n",
       "    </tr>\n",
       "    <tr>\n",
       "      <th>5</th>\n",
       "      <td>2017-12-20</td>\n",
       "      <td>266.140015</td>\n",
       "      <td>266.350006</td>\n",
       "      <td>262.779999</td>\n",
       "      <td>265.640015</td>\n",
       "      <td>265.640015</td>\n",
       "      <td>1984500</td>\n",
       "      <td>3.570007</td>\n",
       "    </tr>\n",
       "    <tr>\n",
       "      <th>6</th>\n",
       "      <td>2017-12-19</td>\n",
       "      <td>263.299988</td>\n",
       "      <td>265.290009</td>\n",
       "      <td>261.269989</td>\n",
       "      <td>263.700012</td>\n",
       "      <td>263.700012</td>\n",
       "      <td>1909400</td>\n",
       "      <td>4.020020</td>\n",
       "    </tr>\n",
       "    <tr>\n",
       "      <th>7</th>\n",
       "      <td>2017-12-18</td>\n",
       "      <td>264.079987</td>\n",
       "      <td>266.510010</td>\n",
       "      <td>262.589996</td>\n",
       "      <td>264.390015</td>\n",
       "      <td>264.390015</td>\n",
       "      <td>2978600</td>\n",
       "      <td>3.920014</td>\n",
       "    </tr>\n",
       "    <tr>\n",
       "      <th>8</th>\n",
       "      <td>2017-12-15</td>\n",
       "      <td>261.649994</td>\n",
       "      <td>266.000000</td>\n",
       "      <td>258.260010</td>\n",
       "      <td>265.730011</td>\n",
       "      <td>263.980011</td>\n",
       "      <td>4509100</td>\n",
       "      <td>7.739990</td>\n",
       "    </tr>\n",
       "  </tbody>\n",
       "</table>\n",
       "</div>"
      ],
      "text/plain": [
       "         Date        Open        High         Low       Close   Adj Close  \\\n",
       "1  2017-12-27  258.839996  261.609985  258.500000  259.119995  259.119995   \n",
       "2  2017-12-26  257.230011  262.350006  253.389999  258.100006  258.100006   \n",
       "3  2017-12-22  261.820007  263.369995  258.700012  262.350006  262.350006   \n",
       "4  2017-12-21  265.950012  266.250000  261.070007  261.529999  261.529999   \n",
       "5  2017-12-20  266.140015  266.350006  262.779999  265.640015  265.640015   \n",
       "6  2017-12-19  263.299988  265.290009  261.269989  263.700012  263.700012   \n",
       "7  2017-12-18  264.079987  266.510010  262.589996  264.390015  264.390015   \n",
       "8  2017-12-15  261.649994  266.000000  258.260010  265.730011  263.980011   \n",
       "\n",
       "    Volume  High - Low  \n",
       "1  3561500    3.109985  \n",
       "2  2225600    8.960007  \n",
       "3  1461700    4.669983  \n",
       "4  1775800    5.179993  \n",
       "5  1984500    3.570007  \n",
       "6  1909400    4.020020  \n",
       "7  2978600    3.920014  \n",
       "8  4509100    7.739990  "
      ]
     },
     "execution_count": 17,
     "metadata": {},
     "output_type": "execute_result"
    }
   ],
   "source": [
    "rem_data.head(8)\n"
   ]
  },
  {
   "cell_type": "code",
   "execution_count": 18,
   "metadata": {},
   "outputs": [
    {
     "data": {
      "text/html": [
       "<div>\n",
       "<style>\n",
       "    .dataframe thead tr:only-child th {\n",
       "        text-align: right;\n",
       "    }\n",
       "\n",
       "    .dataframe thead th {\n",
       "        text-align: left;\n",
       "    }\n",
       "\n",
       "    .dataframe tbody tr th {\n",
       "        vertical-align: top;\n",
       "    }\n",
       "</style>\n",
       "<table border=\"1\" class=\"dataframe\">\n",
       "  <thead>\n",
       "    <tr style=\"text-align: right;\">\n",
       "      <th></th>\n",
       "      <th>Date</th>\n",
       "      <th>Open</th>\n",
       "      <th>High</th>\n",
       "      <th>Low</th>\n",
       "      <th>Close</th>\n",
       "      <th>Adj Close</th>\n",
       "      <th>Volume</th>\n",
       "      <th>High - Low</th>\n",
       "    </tr>\n",
       "  </thead>\n",
       "  <tbody>\n",
       "    <tr>\n",
       "      <th>247</th>\n",
       "      <td>2017-01-05</td>\n",
       "      <td>176.330002</td>\n",
       "      <td>177.000000</td>\n",
       "      <td>173.880005</td>\n",
       "      <td>174.279999</td>\n",
       "      <td>170.921097</td>\n",
       "      <td>2486100</td>\n",
       "      <td>3.119995</td>\n",
       "    </tr>\n",
       "    <tr>\n",
       "      <th>248</th>\n",
       "      <td>2017-01-04</td>\n",
       "      <td>178.259995</td>\n",
       "      <td>179.000000</td>\n",
       "      <td>176.679993</td>\n",
       "      <td>177.070007</td>\n",
       "      <td>173.657318</td>\n",
       "      <td>2396500</td>\n",
       "      <td>2.320007</td>\n",
       "    </tr>\n",
       "    <tr>\n",
       "      <th>249</th>\n",
       "      <td>2017-01-03</td>\n",
       "      <td>178.289993</td>\n",
       "      <td>180.899994</td>\n",
       "      <td>176.539993</td>\n",
       "      <td>178.339996</td>\n",
       "      <td>174.902847</td>\n",
       "      <td>3209800</td>\n",
       "      <td>4.360001</td>\n",
       "    </tr>\n",
       "    <tr>\n",
       "      <th>250</th>\n",
       "      <td>2016-12-30</td>\n",
       "      <td>180.369995</td>\n",
       "      <td>180.899994</td>\n",
       "      <td>176.020004</td>\n",
       "      <td>176.770004</td>\n",
       "      <td>173.363113</td>\n",
       "      <td>2542100</td>\n",
       "      <td>4.879990</td>\n",
       "    </tr>\n",
       "    <tr>\n",
       "      <th>251</th>\n",
       "      <td>2016-12-29</td>\n",
       "      <td>179.699997</td>\n",
       "      <td>180.669998</td>\n",
       "      <td>178.630005</td>\n",
       "      <td>179.869995</td>\n",
       "      <td>176.403351</td>\n",
       "      <td>1367100</td>\n",
       "      <td>2.039993</td>\n",
       "    </tr>\n",
       "  </tbody>\n",
       "</table>\n",
       "</div>"
      ],
      "text/plain": [
       "           Date        Open        High         Low       Close   Adj Close  \\\n",
       "247  2017-01-05  176.330002  177.000000  173.880005  174.279999  170.921097   \n",
       "248  2017-01-04  178.259995  179.000000  176.679993  177.070007  173.657318   \n",
       "249  2017-01-03  178.289993  180.899994  176.539993  178.339996  174.902847   \n",
       "250  2016-12-30  180.369995  180.899994  176.020004  176.770004  173.363113   \n",
       "251  2016-12-29  179.699997  180.669998  178.630005  179.869995  176.403351   \n",
       "\n",
       "      Volume  High - Low  \n",
       "247  2486100    3.119995  \n",
       "248  2396500    2.320007  \n",
       "249  3209800    4.360001  \n",
       "250  2542100    4.879990  \n",
       "251  1367100    2.039993  "
      ]
     },
     "execution_count": 18,
     "metadata": {},
     "output_type": "execute_result"
    }
   ],
   "source": [
    "rem_data.tail()"
   ]
  },
  {
   "cell_type": "markdown",
   "metadata": {},
   "source": [
    "## Setup to derive seven ensuing days of data\n",
    "\n",
    "I have a new column. This will eventually become all my predictions.\n",
    "Thus, i will have to appropriatley extract \"day1 prices\" from 1 day ahead to the end minus one day."
   ]
  },
  {
   "cell_type": "code",
   "execution_count": 19,
   "metadata": {
    "collapsed": true
   },
   "outputs": [],
   "source": [
    "day1 = df['Adj Close'][0:-1].copy(deep=True)"
   ]
  },
  {
   "cell_type": "code",
   "execution_count": 20,
   "metadata": {},
   "outputs": [
    {
     "data": {
      "text/plain": [
       "0    260.420013\n",
       "1    259.119995\n",
       "2    258.100006\n",
       "3    262.350006\n",
       "4    261.529999\n",
       "Name: Adj Close, dtype: float64"
      ]
     },
     "execution_count": 20,
     "metadata": {},
     "output_type": "execute_result"
    }
   ],
   "source": [
    "day1.head()"
   ]
  },
  {
   "cell_type": "markdown",
   "metadata": {},
   "source": [
    "## Setup new data frames and reset indices\n",
    "\n",
    "It is of paramount importance to setup new dataframes and reset indices. Without this it is going to be very tricky to combine the dataframes. It is possible to copy in various ways. However, not doing the correct way will result in nasty warnings despite working. The steps below throw out NO warnings."
   ]
  },
  {
   "cell_type": "code",
   "execution_count": 21,
   "metadata": {
    "collapsed": true
   },
   "outputs": [],
   "source": [
    "d1 = pd.DataFrame(data = day1)"
   ]
  },
  {
   "cell_type": "code",
   "execution_count": 22,
   "metadata": {
    "collapsed": true
   },
   "outputs": [],
   "source": [
    "d1 = d1.rename(columns={'Adj Close': 'Day 1'})\n",
    "d1 = d1.reset_index()\n"
   ]
  },
  {
   "cell_type": "markdown",
   "metadata": {},
   "source": [
    "## Delete Index columns\n",
    "\n",
    "Deleting index columns will make it easy to concat the various individual data frames."
   ]
  },
  {
   "cell_type": "code",
   "execution_count": 23,
   "metadata": {},
   "outputs": [
    {
     "data": {
      "text/html": [
       "<div>\n",
       "<style>\n",
       "    .dataframe thead tr:only-child th {\n",
       "        text-align: right;\n",
       "    }\n",
       "\n",
       "    .dataframe thead th {\n",
       "        text-align: left;\n",
       "    }\n",
       "\n",
       "    .dataframe tbody tr th {\n",
       "        vertical-align: top;\n",
       "    }\n",
       "</style>\n",
       "<table border=\"1\" class=\"dataframe\">\n",
       "  <thead>\n",
       "    <tr style=\"text-align: right;\">\n",
       "      <th></th>\n",
       "      <th>Day 1</th>\n",
       "    </tr>\n",
       "  </thead>\n",
       "  <tbody>\n",
       "    <tr>\n",
       "      <th>0</th>\n",
       "      <td>260.420013</td>\n",
       "    </tr>\n",
       "    <tr>\n",
       "      <th>1</th>\n",
       "      <td>259.119995</td>\n",
       "    </tr>\n",
       "    <tr>\n",
       "      <th>2</th>\n",
       "      <td>258.100006</td>\n",
       "    </tr>\n",
       "    <tr>\n",
       "      <th>3</th>\n",
       "      <td>262.350006</td>\n",
       "    </tr>\n",
       "    <tr>\n",
       "      <th>4</th>\n",
       "      <td>261.529999</td>\n",
       "    </tr>\n",
       "  </tbody>\n",
       "</table>\n",
       "</div>"
      ],
      "text/plain": [
       "        Day 1\n",
       "0  260.420013\n",
       "1  259.119995\n",
       "2  258.100006\n",
       "3  262.350006\n",
       "4  261.529999"
      ]
     },
     "execution_count": 23,
     "metadata": {},
     "output_type": "execute_result"
    }
   ],
   "source": [
    "del d1['index']\n",
    "d1.head()"
   ]
  },
  {
   "cell_type": "code",
   "execution_count": 24,
   "metadata": {},
   "outputs": [
    {
     "data": {
      "text/html": [
       "<div>\n",
       "<style>\n",
       "    .dataframe thead tr:only-child th {\n",
       "        text-align: right;\n",
       "    }\n",
       "\n",
       "    .dataframe thead th {\n",
       "        text-align: left;\n",
       "    }\n",
       "\n",
       "    .dataframe tbody tr th {\n",
       "        vertical-align: top;\n",
       "    }\n",
       "</style>\n",
       "<table border=\"1\" class=\"dataframe\">\n",
       "  <thead>\n",
       "    <tr style=\"text-align: right;\">\n",
       "      <th></th>\n",
       "      <th>Date</th>\n",
       "      <th>Open</th>\n",
       "      <th>High</th>\n",
       "      <th>Low</th>\n",
       "      <th>Close</th>\n",
       "      <th>Adj Close</th>\n",
       "      <th>Volume</th>\n",
       "      <th>High - Low</th>\n",
       "    </tr>\n",
       "  </thead>\n",
       "  <tbody>\n",
       "    <tr>\n",
       "      <th>0</th>\n",
       "      <td>2017-12-27</td>\n",
       "      <td>258.839996</td>\n",
       "      <td>261.609985</td>\n",
       "      <td>258.500000</td>\n",
       "      <td>259.119995</td>\n",
       "      <td>259.119995</td>\n",
       "      <td>3561500</td>\n",
       "      <td>3.109985</td>\n",
       "    </tr>\n",
       "    <tr>\n",
       "      <th>1</th>\n",
       "      <td>2017-12-26</td>\n",
       "      <td>257.230011</td>\n",
       "      <td>262.350006</td>\n",
       "      <td>253.389999</td>\n",
       "      <td>258.100006</td>\n",
       "      <td>258.100006</td>\n",
       "      <td>2225600</td>\n",
       "      <td>8.960007</td>\n",
       "    </tr>\n",
       "    <tr>\n",
       "      <th>2</th>\n",
       "      <td>2017-12-22</td>\n",
       "      <td>261.820007</td>\n",
       "      <td>263.369995</td>\n",
       "      <td>258.700012</td>\n",
       "      <td>262.350006</td>\n",
       "      <td>262.350006</td>\n",
       "      <td>1461700</td>\n",
       "      <td>4.669983</td>\n",
       "    </tr>\n",
       "    <tr>\n",
       "      <th>3</th>\n",
       "      <td>2017-12-21</td>\n",
       "      <td>265.950012</td>\n",
       "      <td>266.250000</td>\n",
       "      <td>261.070007</td>\n",
       "      <td>261.529999</td>\n",
       "      <td>261.529999</td>\n",
       "      <td>1775800</td>\n",
       "      <td>5.179993</td>\n",
       "    </tr>\n",
       "    <tr>\n",
       "      <th>4</th>\n",
       "      <td>2017-12-20</td>\n",
       "      <td>266.140015</td>\n",
       "      <td>266.350006</td>\n",
       "      <td>262.779999</td>\n",
       "      <td>265.640015</td>\n",
       "      <td>265.640015</td>\n",
       "      <td>1984500</td>\n",
       "      <td>3.570007</td>\n",
       "    </tr>\n",
       "  </tbody>\n",
       "</table>\n",
       "</div>"
      ],
      "text/plain": [
       "         Date        Open        High         Low       Close   Adj Close  \\\n",
       "0  2017-12-27  258.839996  261.609985  258.500000  259.119995  259.119995   \n",
       "1  2017-12-26  257.230011  262.350006  253.389999  258.100006  258.100006   \n",
       "2  2017-12-22  261.820007  263.369995  258.700012  262.350006  262.350006   \n",
       "3  2017-12-21  265.950012  266.250000  261.070007  261.529999  261.529999   \n",
       "4  2017-12-20  266.140015  266.350006  262.779999  265.640015  265.640015   \n",
       "\n",
       "    Volume  High - Low  \n",
       "0  3561500    3.109985  \n",
       "1  2225600    8.960007  \n",
       "2  1461700    4.669983  \n",
       "3  1775800    5.179993  \n",
       "4  1984500    3.570007  "
      ]
     },
     "execution_count": 24,
     "metadata": {},
     "output_type": "execute_result"
    }
   ],
   "source": [
    "rem_data = rem_data.reset_index()\n",
    "del rem_data['index']\n",
    "rem_data.head()"
   ]
  },
  {
   "cell_type": "markdown",
   "metadata": {},
   "source": [
    "## Concat various data frames to create the AVGO dataframe\n",
    "\n",
    "The \"avgo\" dataframe is the data frame that will be used for further analysis in the project.\n",
    "This updated data frame has the column \"Day 1\" which will be our target \"y\" or prediction labels. "
   ]
  },
  {
   "cell_type": "code",
   "execution_count": 25,
   "metadata": {
    "collapsed": true
   },
   "outputs": [],
   "source": [
    "avgo = pd.concat([rem_data,d1], axis = 1, join='inner')"
   ]
  },
  {
   "cell_type": "code",
   "execution_count": 26,
   "metadata": {},
   "outputs": [
    {
     "data": {
      "text/html": [
       "<div>\n",
       "<style>\n",
       "    .dataframe thead tr:only-child th {\n",
       "        text-align: right;\n",
       "    }\n",
       "\n",
       "    .dataframe thead th {\n",
       "        text-align: left;\n",
       "    }\n",
       "\n",
       "    .dataframe tbody tr th {\n",
       "        vertical-align: top;\n",
       "    }\n",
       "</style>\n",
       "<table border=\"1\" class=\"dataframe\">\n",
       "  <thead>\n",
       "    <tr style=\"text-align: right;\">\n",
       "      <th></th>\n",
       "      <th>Date</th>\n",
       "      <th>Open</th>\n",
       "      <th>High</th>\n",
       "      <th>Low</th>\n",
       "      <th>Close</th>\n",
       "      <th>Adj Close</th>\n",
       "      <th>Volume</th>\n",
       "      <th>High - Low</th>\n",
       "      <th>Day 1</th>\n",
       "    </tr>\n",
       "  </thead>\n",
       "  <tbody>\n",
       "    <tr>\n",
       "      <th>0</th>\n",
       "      <td>2017-12-27</td>\n",
       "      <td>258.839996</td>\n",
       "      <td>261.609985</td>\n",
       "      <td>258.500000</td>\n",
       "      <td>259.119995</td>\n",
       "      <td>259.119995</td>\n",
       "      <td>3561500</td>\n",
       "      <td>3.109985</td>\n",
       "      <td>260.420013</td>\n",
       "    </tr>\n",
       "    <tr>\n",
       "      <th>1</th>\n",
       "      <td>2017-12-26</td>\n",
       "      <td>257.230011</td>\n",
       "      <td>262.350006</td>\n",
       "      <td>253.389999</td>\n",
       "      <td>258.100006</td>\n",
       "      <td>258.100006</td>\n",
       "      <td>2225600</td>\n",
       "      <td>8.960007</td>\n",
       "      <td>259.119995</td>\n",
       "    </tr>\n",
       "    <tr>\n",
       "      <th>2</th>\n",
       "      <td>2017-12-22</td>\n",
       "      <td>261.820007</td>\n",
       "      <td>263.369995</td>\n",
       "      <td>258.700012</td>\n",
       "      <td>262.350006</td>\n",
       "      <td>262.350006</td>\n",
       "      <td>1461700</td>\n",
       "      <td>4.669983</td>\n",
       "      <td>258.100006</td>\n",
       "    </tr>\n",
       "    <tr>\n",
       "      <th>3</th>\n",
       "      <td>2017-12-21</td>\n",
       "      <td>265.950012</td>\n",
       "      <td>266.250000</td>\n",
       "      <td>261.070007</td>\n",
       "      <td>261.529999</td>\n",
       "      <td>261.529999</td>\n",
       "      <td>1775800</td>\n",
       "      <td>5.179993</td>\n",
       "      <td>262.350006</td>\n",
       "    </tr>\n",
       "    <tr>\n",
       "      <th>4</th>\n",
       "      <td>2017-12-20</td>\n",
       "      <td>266.140015</td>\n",
       "      <td>266.350006</td>\n",
       "      <td>262.779999</td>\n",
       "      <td>265.640015</td>\n",
       "      <td>265.640015</td>\n",
       "      <td>1984500</td>\n",
       "      <td>3.570007</td>\n",
       "      <td>261.529999</td>\n",
       "    </tr>\n",
       "    <tr>\n",
       "      <th>5</th>\n",
       "      <td>2017-12-19</td>\n",
       "      <td>263.299988</td>\n",
       "      <td>265.290009</td>\n",
       "      <td>261.269989</td>\n",
       "      <td>263.700012</td>\n",
       "      <td>263.700012</td>\n",
       "      <td>1909400</td>\n",
       "      <td>4.020020</td>\n",
       "      <td>265.640015</td>\n",
       "    </tr>\n",
       "    <tr>\n",
       "      <th>6</th>\n",
       "      <td>2017-12-18</td>\n",
       "      <td>264.079987</td>\n",
       "      <td>266.510010</td>\n",
       "      <td>262.589996</td>\n",
       "      <td>264.390015</td>\n",
       "      <td>264.390015</td>\n",
       "      <td>2978600</td>\n",
       "      <td>3.920014</td>\n",
       "      <td>263.700012</td>\n",
       "    </tr>\n",
       "    <tr>\n",
       "      <th>7</th>\n",
       "      <td>2017-12-15</td>\n",
       "      <td>261.649994</td>\n",
       "      <td>266.000000</td>\n",
       "      <td>258.260010</td>\n",
       "      <td>265.730011</td>\n",
       "      <td>263.980011</td>\n",
       "      <td>4509100</td>\n",
       "      <td>7.739990</td>\n",
       "      <td>264.390015</td>\n",
       "    </tr>\n",
       "    <tr>\n",
       "      <th>8</th>\n",
       "      <td>2017-12-14</td>\n",
       "      <td>262.339996</td>\n",
       "      <td>263.000000</td>\n",
       "      <td>256.700012</td>\n",
       "      <td>259.339996</td>\n",
       "      <td>257.632080</td>\n",
       "      <td>3759500</td>\n",
       "      <td>6.299988</td>\n",
       "      <td>263.980011</td>\n",
       "    </tr>\n",
       "    <tr>\n",
       "      <th>9</th>\n",
       "      <td>2017-12-13</td>\n",
       "      <td>260.410004</td>\n",
       "      <td>263.290009</td>\n",
       "      <td>260.179993</td>\n",
       "      <td>262.029999</td>\n",
       "      <td>260.304352</td>\n",
       "      <td>2694300</td>\n",
       "      <td>3.110016</td>\n",
       "      <td>257.632080</td>\n",
       "    </tr>\n",
       "  </tbody>\n",
       "</table>\n",
       "</div>"
      ],
      "text/plain": [
       "         Date        Open        High         Low       Close   Adj Close  \\\n",
       "0  2017-12-27  258.839996  261.609985  258.500000  259.119995  259.119995   \n",
       "1  2017-12-26  257.230011  262.350006  253.389999  258.100006  258.100006   \n",
       "2  2017-12-22  261.820007  263.369995  258.700012  262.350006  262.350006   \n",
       "3  2017-12-21  265.950012  266.250000  261.070007  261.529999  261.529999   \n",
       "4  2017-12-20  266.140015  266.350006  262.779999  265.640015  265.640015   \n",
       "5  2017-12-19  263.299988  265.290009  261.269989  263.700012  263.700012   \n",
       "6  2017-12-18  264.079987  266.510010  262.589996  264.390015  264.390015   \n",
       "7  2017-12-15  261.649994  266.000000  258.260010  265.730011  263.980011   \n",
       "8  2017-12-14  262.339996  263.000000  256.700012  259.339996  257.632080   \n",
       "9  2017-12-13  260.410004  263.290009  260.179993  262.029999  260.304352   \n",
       "\n",
       "    Volume  High - Low       Day 1  \n",
       "0  3561500    3.109985  260.420013  \n",
       "1  2225600    8.960007  259.119995  \n",
       "2  1461700    4.669983  258.100006  \n",
       "3  1775800    5.179993  262.350006  \n",
       "4  1984500    3.570007  261.529999  \n",
       "5  1909400    4.020020  265.640015  \n",
       "6  2978600    3.920014  263.700012  \n",
       "7  4509100    7.739990  264.390015  \n",
       "8  3759500    6.299988  263.980011  \n",
       "9  2694300    3.110016  257.632080  "
      ]
     },
     "execution_count": 26,
     "metadata": {},
     "output_type": "execute_result"
    }
   ],
   "source": [
    "avgo.head(10)"
   ]
  },
  {
   "cell_type": "markdown",
   "metadata": {},
   "source": [
    "## Display Some Plots"
   ]
  },
  {
   "cell_type": "code",
   "execution_count": 27,
   "metadata": {},
   "outputs": [
    {
     "data": {
      "image/png": "[encoded data removed]",
      "text/plain": [
       "<matplotlib.figure.Figure at 0x16184c47da0>"
      ]
     },
     "metadata": {},
     "output_type": "display_data"
    }
   ],
   "source": [
    "avgo.plot(x = 'Date', y = 'Open')\n",
    "plt.gca().invert_xaxis()\n",
    "plt.show()"
   ]
  },
  {
   "cell_type": "code",
   "execution_count": 28,
   "metadata": {},
   "outputs": [
    {
     "data": {
      "image/png": "[encoded data removed]",
      "text/plain": [
       "<matplotlib.figure.Figure at 0x16184c0eda0>"
      ]
     },
     "metadata": {},
     "output_type": "display_data"
    }
   ],
   "source": [
    "avgo.plot(x = 'Date', y = 'Adj Close')\n",
    "plt.gca().invert_xaxis()\n",
    "plt.show()"
   ]
  },
  {
   "cell_type": "code",
   "execution_count": 86,
   "metadata": {},
   "outputs": [
    {
     "data": {
      "text/html": [
       "<div>\n",
       "<style>\n",
       "    .dataframe thead tr:only-child th {\n",
       "        text-align: right;\n",
       "    }\n",
       "\n",
       "    .dataframe thead th {\n",
       "        text-align: left;\n",
       "    }\n",
       "\n",
       "    .dataframe tbody tr th {\n",
       "        vertical-align: top;\n",
       "    }\n",
       "</style>\n",
       "<table border=\"1\" class=\"dataframe\">\n",
       "  <thead>\n",
       "    <tr style=\"text-align: right;\">\n",
       "      <th></th>\n",
       "      <th>Date</th>\n",
       "      <th>Open</th>\n",
       "      <th>High</th>\n",
       "      <th>Low</th>\n",
       "      <th>Close</th>\n",
       "      <th>Adj Close</th>\n",
       "      <th>Volume</th>\n",
       "      <th>High - Low</th>\n",
       "      <th>Day 1</th>\n",
       "    </tr>\n",
       "  </thead>\n",
       "  <tbody>\n",
       "    <tr>\n",
       "      <th>0</th>\n",
       "      <td>2016-12-29</td>\n",
       "      <td>179.699997</td>\n",
       "      <td>180.669998</td>\n",
       "      <td>178.630005</td>\n",
       "      <td>179.869995</td>\n",
       "      <td>176.403351</td>\n",
       "      <td>1367100</td>\n",
       "      <td>2.039993</td>\n",
       "      <td>173.363113</td>\n",
       "    </tr>\n",
       "    <tr>\n",
       "      <th>1</th>\n",
       "      <td>2016-12-30</td>\n",
       "      <td>180.369995</td>\n",
       "      <td>180.899994</td>\n",
       "      <td>176.020004</td>\n",
       "      <td>176.770004</td>\n",
       "      <td>173.363113</td>\n",
       "      <td>2542100</td>\n",
       "      <td>4.879990</td>\n",
       "      <td>174.902847</td>\n",
       "    </tr>\n",
       "    <tr>\n",
       "      <th>2</th>\n",
       "      <td>2017-01-03</td>\n",
       "      <td>178.289993</td>\n",
       "      <td>180.899994</td>\n",
       "      <td>176.539993</td>\n",
       "      <td>178.339996</td>\n",
       "      <td>174.902847</td>\n",
       "      <td>3209800</td>\n",
       "      <td>4.360001</td>\n",
       "      <td>173.657318</td>\n",
       "    </tr>\n",
       "    <tr>\n",
       "      <th>3</th>\n",
       "      <td>2017-01-04</td>\n",
       "      <td>178.259995</td>\n",
       "      <td>179.000000</td>\n",
       "      <td>176.679993</td>\n",
       "      <td>177.070007</td>\n",
       "      <td>173.657318</td>\n",
       "      <td>2396500</td>\n",
       "      <td>2.320007</td>\n",
       "      <td>170.921097</td>\n",
       "    </tr>\n",
       "    <tr>\n",
       "      <th>4</th>\n",
       "      <td>2017-01-05</td>\n",
       "      <td>176.330002</td>\n",
       "      <td>177.000000</td>\n",
       "      <td>173.880005</td>\n",
       "      <td>174.279999</td>\n",
       "      <td>170.921097</td>\n",
       "      <td>2486100</td>\n",
       "      <td>3.119995</td>\n",
       "      <td>173.186569</td>\n",
       "    </tr>\n",
       "  </tbody>\n",
       "</table>\n",
       "</div>"
      ],
      "text/plain": [
       "         Date        Open        High         Low       Close   Adj Close  \\\n",
       "0  2016-12-29  179.699997  180.669998  178.630005  179.869995  176.403351   \n",
       "1  2016-12-30  180.369995  180.899994  176.020004  176.770004  173.363113   \n",
       "2  2017-01-03  178.289993  180.899994  176.539993  178.339996  174.902847   \n",
       "3  2017-01-04  178.259995  179.000000  176.679993  177.070007  173.657318   \n",
       "4  2017-01-05  176.330002  177.000000  173.880005  174.279999  170.921097   \n",
       "\n",
       "    Volume  High - Low       Day 1  \n",
       "0  1367100    2.039993  173.363113  \n",
       "1  2542100    4.879990  174.902847  \n",
       "2  3209800    4.360001  173.657318  \n",
       "3  2396500    2.320007  170.921097  \n",
       "4  2486100    3.119995  173.186569  "
      ]
     },
     "execution_count": 86,
     "metadata": {},
     "output_type": "execute_result"
    }
   ],
   "source": [
    "avgo = avgo.iloc[::-1]\n",
    "avgo = avgo.reset_index()\n",
    "del avgo['index']\n",
    "\n",
    "avgo.head()"
   ]
  },
  {
   "cell_type": "code",
   "execution_count": 87,
   "metadata": {},
   "outputs": [],
   "source": [
    "y = avgo['Day 1'].values\n"
   ]
  },
  {
   "cell_type": "code",
   "execution_count": 88,
   "metadata": {
    "collapsed": true
   },
   "outputs": [],
   "source": [
    "X = avgo[['Open','Volume','Adj Close','High', 'Low']].as_matrix()"
   ]
  },
  {
   "cell_type": "code",
   "execution_count": 89,
   "metadata": {},
   "outputs": [],
   "source": [
    "X_train = X[0:250]\n",
    "X_test  = X[250:]\n",
    "y_train = y[0:250]\n",
    "y_test  = y[250:]"
   ]
  },
  {
   "cell_type": "code",
   "execution_count": 90,
   "metadata": {},
   "outputs": [
    {
     "name": "stdout",
     "output_type": "stream",
     "text": [
      "[ 258.20424455] [ 260.420013]\n",
      "Root Mean squared error: 2.22\n"
     ]
    }
   ],
   "source": [
    "from sklearn import linear_model\n",
    "from sklearn.metrics import mean_squared_error, r2_score\n",
    "from math import sqrt\n",
    "\n",
    "linreg = linear_model.LinearRegression()\n",
    "linreg.fit(X_train, y_train)\n",
    "y_pred = linreg.predict(X_test)\n",
    "\n",
    "print(y_pred, y_test)\n",
    "\n",
    "# The root mean squared error\n",
    "print(\"Root Mean squared error: %.2f\"\n",
    "      % sqrt(mean_squared_error(y_test, y_pred)))\n"
   ]
  },
  {
   "cell_type": "code",
   "execution_count": 93,
   "metadata": {},
   "outputs": [
    {
     "name": "stdout",
     "output_type": "stream",
     "text": [
      "[ 238.72405375] [ 260.420013]\n",
      "Root Mean squared error: 21.70\n"
     ]
    }
   ],
   "source": [
    "from sklearn.svm import SVR\n",
    "from sklearn.tree import DecisionTreeRegressor\n",
    "\n",
    "\n",
    "clf = SVR(C=1.0, epsilon=0.2)\n",
    "clf.fit(X_train, y_train)\n",
    "\n",
    "y_pred = clf.predict(X_test)\n",
    "\n",
    "print(y_pred, y_test)\n",
    "\n",
    "# The root mean squared error\n",
    "print(\"Root Mean squared error: %.2f\"\n",
    "      % sqrt(mean_squared_error(y_test, y_pred)))"
   ]
  },
  {
   "cell_type": "code",
   "execution_count": 94,
   "metadata": {},
   "outputs": [
    {
     "name": "stdout",
     "output_type": "stream",
     "text": [
      "[ 256.996307] [ 260.420013]\n",
      "Root Mean squared error: 3.42\n"
     ]
    }
   ],
   "source": [
    "clf = DecisionTreeRegressor(random_state=0)\n",
    "clf.fit(X_train, y_train)\n",
    "\n",
    "y_pred = clf.predict(X_test)\n",
    "\n",
    "print(y_pred, y_test)\n",
    "\n",
    "# The root mean squared error\n",
    "print(\"Root Mean squared error: %.2f\"\n",
    "      % sqrt(mean_squared_error(y_test, y_pred)))"
   ]
  },
  {
   "cell_type": "code",
   "execution_count": 77,
   "metadata": {},
   "outputs": [
    {
     "name": "stdout",
     "output_type": "stream",
     "text": [
      "[ 176.90737283] [ 173.363113]\n",
      "Root Mean squared error: 3.54\n"
     ]
    }
   ],
   "source": [
    "from sklearn.ensemble import RandomForestRegressor\n",
    "\n",
    "clf = RandomForestRegressor(max_depth=5, random_state=0)\n",
    "clf.fit(X_train, y_train)\n",
    "\n",
    "y_pred = clf.predict(X_test)\n",
    "\n",
    "print(y_pred, y_test)\n",
    "\n",
    "# The root mean squared error\n",
    "print(\"Root Mean squared error: %.2f\"\n",
    "      % sqrt(mean_squared_error(y_test, y_pred)))"
   ]
  },
  {
   "cell_type": "code",
   "execution_count": 119,
   "metadata": {
    "collapsed": true
   },
   "outputs": [],
   "source": [
    "def split_data(X, y, start, num):\n",
    "    return X[start:start + num], y[start:start + num], X[num:num+1], y[num:num+1]\n",
    "\n"
   ]
  },
  {
   "cell_type": "code",
   "execution_count": 128,
   "metadata": {
    "collapsed": true
   },
   "outputs": [],
   "source": [
    "X_train, y_train, X_test, y_test = split_data(X, y, 0, 250)"
   ]
  },
  {
   "cell_type": "code",
   "execution_count": 129,
   "metadata": {},
   "outputs": [
    {
     "name": "stdout",
     "output_type": "stream",
     "text": [
      "[ 256.996307] [ 260.420013]\n",
      "Root Mean squared error: 3.42\n"
     ]
    }
   ],
   "source": [
    "clf = DecisionTreeRegressor(random_state=0)\n",
    "clf.fit(X_train, y_train)\n",
    "\n",
    "y_pred = clf.predict(X_test)\n",
    "\n",
    "print(y_pred, y_test)\n",
    "\n",
    "# The root mean squared error\n",
    "print(\"Root Mean squared error: %.2f\"\n",
    "      % sqrt(mean_squared_error(y_test, y_pred)))"
   ]
  },
  {
   "cell_type": "code",
   "execution_count": 130,
   "metadata": {},
   "outputs": [
    {
     "name": "stdout",
     "output_type": "stream",
     "text": [
      "[ 259.81668677] [ 260.420013]\n",
      "Root Mean squared error: 0.60\n"
     ]
    }
   ],
   "source": [
    "clf = RandomForestRegressor(max_depth=5, random_state=0)\n",
    "clf.fit(X_train, y_train)\n",
    "\n",
    "y_pred = clf.predict(X_test)\n",
    "\n",
    "print(y_pred, y_test)\n",
    "\n",
    "# The root mean squared error\n",
    "print(\"Root Mean squared error: %.2f\"\n",
    "      % sqrt(mean_squared_error(y_test, y_pred)))"
   ]
  },
  {
   "cell_type": "code",
   "execution_count": 131,
   "metadata": {},
   "outputs": [
    {
     "name": "stdout",
     "output_type": "stream",
     "text": [
      "[ 238.72405375] [ 260.420013]\n",
      "Root Mean squared error: 21.70\n"
     ]
    }
   ],
   "source": [
    "clf = SVR(C=1.0, epsilon=0.2)\n",
    "clf.fit(X_train, y_train)\n",
    "\n",
    "y_pred = clf.predict(X_test)\n",
    "\n",
    "print(y_pred, y_test)\n",
    "\n",
    "# The root mean squared error\n",
    "print(\"Root Mean squared error: %.2f\"\n",
    "      % sqrt(mean_squared_error(y_test, y_pred)))"
   ]
  },
  {
   "cell_type": "code",
   "execution_count": 132,
   "metadata": {},
   "outputs": [
    {
     "name": "stdout",
     "output_type": "stream",
     "text": [
      "[ 258.20424455] [ 260.420013]\n",
      "Root Mean squared error: 2.22\n"
     ]
    }
   ],
   "source": [
    "linreg = linear_model.LinearRegression()\n",
    "linreg.fit(X_train, y_train)\n",
    "y_pred = linreg.predict(X_test)\n",
    "\n",
    "print(y_pred, y_test)\n",
    "\n",
    "# The root mean squared error\n",
    "print(\"Root Mean squared error: %.2f\"\n",
    "      % sqrt(mean_squared_error(y_test, y_pred)))"
   ]
  },
  {
   "cell_type": "code",
   "execution_count": null,
   "metadata": {
    "collapsed": true
   },
   "outputs": [],
   "source": []
  },
  {
   "cell_type": "code",
   "execution_count": null,
   "metadata": {
    "collapsed": true
   },
   "outputs": [],
   "source": []
  }
 ],
 "metadata": {
  "anaconda-cloud": {},
  "kernelspec": {
   "display_name": "Python 3",
   "language": "python",
   "name": "python3"
  },
  "language_info": {
   "codemirror_mode": {
    "name": "ipython",
    "version": 3
   },
   "file_extension": ".py",
   "mimetype": "text/x-python",
   "name": "python",
   "nbconvert_exporter": "python",
   "pygments_lexer": "ipython3",
   "version": "3.6.3"
  }
 },
 "nbformat": 4,
 "nbformat_minor": 1
}
